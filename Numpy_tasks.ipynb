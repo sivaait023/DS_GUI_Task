{
  "cells": [
    {
      "cell_type": "markdown",
      "metadata": {
        "id": "view-in-github",
        "colab_type": "text"
      },
      "source": [
        "<a href=\"https://colab.research.google.com/github/sivaait023/DS_GUI_Task/blob/main/Numpy_tasks.ipynb\" target=\"_parent\"><img src=\"https://colab.research.google.com/assets/colab-badge.svg\" alt=\"Open In Colab\"/></a>"
      ]
    },
    {
      "cell_type": "markdown",
      "metadata": {
        "id": "k-PqDUjEKb2N"
      },
      "source": [
        "# Numpy\n",
        "\n"
      ]
    },
    {
      "cell_type": "markdown",
      "metadata": {
        "id": "dR4Y2WyzKb2h"
      },
      "source": [
        "#### 1. Import the numpy package under the name `np` (★☆☆) \n",
        "(**hint**: import … as …)"
      ]
    },
    {
      "cell_type": "code",
      "execution_count": null,
      "metadata": {
        "collapsed": true,
        "id": "yUpHjBeeKb2k"
      },
      "outputs": [],
      "source": [
        "import numpy as np"
      ]
    },
    {
      "cell_type": "markdown",
      "metadata": {
        "id": "JHTgIJKcKb2o"
      },
      "source": [
        "#### 2. Print the numpy version and the configuration (★☆☆) \n",
        "(**hint**: np.\\_\\_version\\_\\_, np.show\\_config)"
      ]
    },
    {
      "cell_type": "code",
      "execution_count": null,
      "metadata": {
        "colab": {
          "base_uri": "https://localhost:8080/"
        },
        "id": "NkHmUVkxKb2r",
        "outputId": "f0bcda51-192b-40b6-e9d3-e76054f0e14a"
      },
      "outputs": [
        {
          "name": "stdout",
          "output_type": "stream",
          "text": [
            "1.21.6\n",
            "blas_mkl_info:\n",
            "  NOT AVAILABLE\n",
            "blis_info:\n",
            "  NOT AVAILABLE\n",
            "openblas_info:\n",
            "    libraries = ['openblas', 'openblas']\n",
            "    library_dirs = ['/usr/local/lib']\n",
            "    language = c\n",
            "    define_macros = [('HAVE_CBLAS', None)]\n",
            "    runtime_library_dirs = ['/usr/local/lib']\n",
            "blas_opt_info:\n",
            "    libraries = ['openblas', 'openblas']\n",
            "    library_dirs = ['/usr/local/lib']\n",
            "    language = c\n",
            "    define_macros = [('HAVE_CBLAS', None)]\n",
            "    runtime_library_dirs = ['/usr/local/lib']\n",
            "lapack_mkl_info:\n",
            "  NOT AVAILABLE\n",
            "openblas_lapack_info:\n",
            "    libraries = ['openblas', 'openblas']\n",
            "    library_dirs = ['/usr/local/lib']\n",
            "    language = c\n",
            "    define_macros = [('HAVE_CBLAS', None)]\n",
            "    runtime_library_dirs = ['/usr/local/lib']\n",
            "lapack_opt_info:\n",
            "    libraries = ['openblas', 'openblas']\n",
            "    library_dirs = ['/usr/local/lib']\n",
            "    language = c\n",
            "    define_macros = [('HAVE_CBLAS', None)]\n",
            "    runtime_library_dirs = ['/usr/local/lib']\n",
            "Supported SIMD extensions in this NumPy install:\n",
            "    baseline = SSE,SSE2,SSE3\n",
            "    found = SSSE3,SSE41,POPCNT,SSE42,AVX,F16C,FMA3,AVX2\n",
            "    not found = AVX512F,AVX512CD,AVX512_KNL,AVX512_KNM,AVX512_SKX,AVX512_CLX,AVX512_CNL,AVX512_ICL\n",
            "None\n"
          ]
        }
      ],
      "source": [
        "print(np.__version__)\n",
        "print(np.show_config())"
      ]
    },
    {
      "cell_type": "markdown",
      "metadata": {
        "id": "cQXQ4OY-Kb2s"
      },
      "source": [
        "#### 3. Create a null vector of size 10 (★☆☆) \n",
        "(**hint**: np.zeros)"
      ]
    },
    {
      "cell_type": "code",
      "execution_count": null,
      "metadata": {
        "colab": {
          "base_uri": "https://localhost:8080/"
        },
        "id": "70q-RaciKb2u",
        "outputId": "38855bf4-ca3e-44bd-bd74-90d67a116f37"
      },
      "outputs": [
        {
          "data": {
            "text/plain": [
              "array([0., 0., 0., 0., 0., 0., 0., 0., 0., 0.])"
            ]
          },
          "execution_count": 5,
          "metadata": {},
          "output_type": "execute_result"
        }
      ],
      "source": [
        "null_vect=np.zeros(10)\n",
        "null_vect"
      ]
    },
    {
      "cell_type": "markdown",
      "metadata": {
        "id": "2ECgTpnmKb2v"
      },
      "source": [
        "#### 4.  How to find the memory size of any array (★☆☆) \n",
        "(**hint**: size, itemsize)"
      ]
    },
    {
      "cell_type": "code",
      "execution_count": null,
      "metadata": {
        "colab": {
          "base_uri": "https://localhost:8080/"
        },
        "id": "Sp8GKJV_Kb2y",
        "outputId": "cee4fe50-8bd4-414d-dc07-8636dd8abbf3"
      },
      "outputs": [
        {
          "name": "stdout",
          "output_type": "stream",
          "text": [
            "length of whole array(arr1): 5\n",
            "size of single element in array 8\n",
            "size of an array 40\n"
          ]
        }
      ],
      "source": [
        "arr1=np.array([1,7,3,4,5])\n",
        "print('length of whole array(arr1):',arr1.size)\n",
        "print('size of single element in array',arr1.itemsize)\n",
        "print('size of an array',arr1.size*arr1.itemsize)"
      ]
    },
    {
      "cell_type": "markdown",
      "metadata": {
        "id": "Otlqn7e5Kb2z"
      },
      "source": [
        "#### 5.  How to get the documentation of the numpy add function from the command line? (★☆☆) \n",
        "(**hint**: np.info)"
      ]
    },
    {
      "cell_type": "code",
      "execution_count": null,
      "metadata": {
        "colab": {
          "base_uri": "https://localhost:8080/"
        },
        "collapsed": true,
        "id": "n0YeLU_ZKb21",
        "outputId": "b4ab4211-7bf2-444c-bd2f-76111a9d7433"
      },
      "outputs": [
        {
          "name": "stdout",
          "output_type": "stream",
          "text": [
            "add(x1, x2, /, out=None, *, where=True, casting='same_kind', order='K', dtype=None, subok=True[, signature, extobj])\n",
            "\n",
            "Add arguments element-wise.\n",
            "\n",
            "Parameters\n",
            "----------\n",
            "x1, x2 : array_like\n",
            "    The arrays to be added.\n",
            "    If ``x1.shape != x2.shape``, they must be broadcastable to a common\n",
            "    shape (which becomes the shape of the output).\n",
            "out : ndarray, None, or tuple of ndarray and None, optional\n",
            "    A location into which the result is stored. If provided, it must have\n",
            "    a shape that the inputs broadcast to. If not provided or None,\n",
            "    a freshly-allocated array is returned. A tuple (possible only as a\n",
            "    keyword argument) must have length equal to the number of outputs.\n",
            "where : array_like, optional\n",
            "    This condition is broadcast over the input. At locations where the\n",
            "    condition is True, the `out` array will be set to the ufunc result.\n",
            "    Elsewhere, the `out` array will retain its original value.\n",
            "    Note that if an uninitialized `out` array is created via the default\n",
            "    ``out=None``, locations within it where the condition is False will\n",
            "    remain uninitialized.\n",
            "**kwargs\n",
            "    For other keyword-only arguments, see the\n",
            "    :ref:`ufunc docs <ufuncs.kwargs>`.\n",
            "\n",
            "Returns\n",
            "-------\n",
            "add : ndarray or scalar\n",
            "    The sum of `x1` and `x2`, element-wise.\n",
            "    This is a scalar if both `x1` and `x2` are scalars.\n",
            "\n",
            "Notes\n",
            "-----\n",
            "Equivalent to `x1` + `x2` in terms of array broadcasting.\n",
            "\n",
            "Examples\n",
            "--------\n",
            ">>> np.add(1.0, 4.0)\n",
            "5.0\n",
            ">>> x1 = np.arange(9.0).reshape((3, 3))\n",
            ">>> x2 = np.arange(3.0)\n",
            ">>> np.add(x1, x2)\n",
            "array([[  0.,   2.,   4.],\n",
            "       [  3.,   5.,   7.],\n",
            "       [  6.,   8.,  10.]])\n",
            "\n",
            "The ``+`` operator can be used as a shorthand for ``np.add`` on ndarrays.\n",
            "\n",
            ">>> x1 = np.arange(9.0).reshape((3, 3))\n",
            ">>> x2 = np.arange(3.0)\n",
            ">>> x1 + x2\n",
            "array([[ 0.,  2.,  4.],\n",
            "       [ 3.,  5.,  7.],\n",
            "       [ 6.,  8., 10.]])\n"
          ]
        }
      ],
      "source": [
        "np.info(np.add)"
      ]
    },
    {
      "cell_type": "markdown",
      "metadata": {
        "id": "4UYcRf67Kb22"
      },
      "source": [
        "#### 6.  Create a null vector of size 10 but the fifth value which is 1 (★☆☆) \n",
        "(**hint**: array\\[4\\])"
      ]
    },
    {
      "cell_type": "code",
      "execution_count": null,
      "metadata": {
        "colab": {
          "base_uri": "https://localhost:8080/"
        },
        "id": "sVIkn-7yKb24",
        "outputId": "f76fcad0-45d7-4b82-c3db-0aa62726a110"
      },
      "outputs": [
        {
          "data": {
            "text/plain": [
              "array([0., 0., 0., 0., 1., 0., 0., 0., 0., 0.])"
            ]
          },
          "execution_count": 16,
          "metadata": {},
          "output_type": "execute_result"
        }
      ],
      "source": [
        "arr2=np.zeros(10)\n",
        "arr2[4]=1\n",
        "arr2"
      ]
    },
    {
      "cell_type": "markdown",
      "metadata": {
        "id": "KI97TrPjKb25"
      },
      "source": [
        "#### 7.  Create a vector with values ranging from 10 to 49 (★☆☆) \n",
        "(**hint**: np.arange)"
      ]
    },
    {
      "cell_type": "code",
      "execution_count": null,
      "metadata": {
        "colab": {
          "base_uri": "https://localhost:8080/"
        },
        "id": "gjOhS2ZHKb26",
        "outputId": "637335b1-5f6d-4792-9044-7312bf9bd0b5"
      },
      "outputs": [
        {
          "data": {
            "text/plain": [
              "array([ 0,  1,  2,  3,  4,  5,  6,  7,  8,  9, 10, 11, 12, 13, 14, 15, 16,\n",
              "       17, 18, 19, 20, 21, 22, 23, 24, 25, 26, 27, 28, 29, 30, 31, 32, 33,\n",
              "       34, 35, 36, 37, 38, 39, 40, 41, 42, 43, 44, 45, 46, 47, 48, 49])"
            ]
          },
          "execution_count": 18,
          "metadata": {},
          "output_type": "execute_result"
        }
      ],
      "source": [
        "arr3=np.arange(0,50)\n",
        "arr3"
      ]
    },
    {
      "cell_type": "markdown",
      "metadata": {
        "id": "lNLUctBWKb27"
      },
      "source": [
        "#### 8.  Reverse a vector (first element becomes last) (★☆☆) \n",
        "(**hint**: array\\[::-1\\])"
      ]
    },
    {
      "cell_type": "code",
      "execution_count": null,
      "metadata": {
        "colab": {
          "base_uri": "https://localhost:8080/"
        },
        "id": "iAZbbghPKb28",
        "outputId": "d91894d4-8a1a-40fe-ca2e-a050d8d91f18"
      },
      "outputs": [
        {
          "data": {
            "text/plain": [
              "array([49, 48, 47, 46, 45, 44, 43, 42, 41, 40, 39, 38, 37, 36, 35, 34, 33,\n",
              "       32, 31, 30, 29, 28, 27, 26, 25, 24, 23, 22, 21, 20, 19, 18, 17, 16,\n",
              "       15, 14, 13, 12, 11, 10,  9,  8,  7,  6,  5,  4,  3,  2,  1,  0])"
            ]
          },
          "execution_count": 19,
          "metadata": {},
          "output_type": "execute_result"
        }
      ],
      "source": [
        "reverse=arr3[::-1]\n",
        "reverse"
      ]
    },
    {
      "cell_type": "markdown",
      "metadata": {
        "id": "5f2opXXHKb29"
      },
      "source": [
        "#### 9.  Create a 3x3 matrix with values ranging from 0 to 8 (★☆☆) \n",
        "(**hint**: reshape)"
      ]
    },
    {
      "cell_type": "code",
      "execution_count": null,
      "metadata": {
        "colab": {
          "base_uri": "https://localhost:8080/"
        },
        "id": "IrN7wo6fKb2-",
        "outputId": "10a721d3-88c5-4e84-f26f-ad324c351f72"
      },
      "outputs": [
        {
          "data": {
            "text/plain": [
              "array([[0, 1, 2],\n",
              "       [3, 4, 5],\n",
              "       [6, 7, 8]])"
            ]
          },
          "execution_count": 28,
          "metadata": {},
          "output_type": "execute_result"
        }
      ],
      "source": [
        "arr4=np.arange(0,9)\n",
        "arr4.reshape((3,3))\n"
      ]
    },
    {
      "cell_type": "markdown",
      "metadata": {
        "id": "U0laN3CjKb2_"
      },
      "source": [
        "#### 10. Find indices of non-zero elements from \\[1,2,0,0,4,0\\] (★☆☆) \n",
        "(**hint**: np.nonzero)"
      ]
    },
    {
      "cell_type": "code",
      "execution_count": null,
      "metadata": {
        "colab": {
          "base_uri": "https://localhost:8080/"
        },
        "id": "GY_GivjeKb3A",
        "outputId": "ae64625c-f11f-4a5a-81ce-fe3401cf68a1"
      },
      "outputs": [
        {
          "data": {
            "text/plain": [
              "(array([0, 1, 4]),)"
            ]
          },
          "execution_count": 34,
          "metadata": {},
          "output_type": "execute_result"
        }
      ],
      "source": [
        "arr5=np.array([1,2,0,0,4,0])\n",
        "np.nonzero(arr5)"
      ]
    },
    {
      "cell_type": "markdown",
      "metadata": {
        "id": "khw_ttDAKb3B"
      },
      "source": [
        "#### 11. Create a 3x3 identity matrix (★☆☆) \n",
        "(**hint**: np.eye)"
      ]
    },
    {
      "cell_type": "code",
      "execution_count": null,
      "metadata": {
        "colab": {
          "base_uri": "https://localhost:8080/"
        },
        "id": "aodGWJG0Kb3C",
        "outputId": "f4e80bca-f074-4df9-d95d-e46e5fc1de06"
      },
      "outputs": [
        {
          "data": {
            "text/plain": [
              "array([[1., 0., 0.],\n",
              "       [0., 1., 0.],\n",
              "       [0., 0., 1.]])"
            ]
          },
          "execution_count": 36,
          "metadata": {},
          "output_type": "execute_result"
        }
      ],
      "source": [
        "arr6=np.eye(3,3)\n",
        "arr6"
      ]
    },
    {
      "cell_type": "markdown",
      "metadata": {
        "id": "kK7tdXeJKb3C"
      },
      "source": [
        "#### 12. Create a 3x3x3 array with random values (★☆☆) \n",
        "(**hint**: np.random.random)"
      ]
    },
    {
      "cell_type": "code",
      "execution_count": null,
      "metadata": {
        "colab": {
          "base_uri": "https://localhost:8080/"
        },
        "collapsed": true,
        "id": "TrF1_a3jKb3D",
        "outputId": "6087c58f-a4d2-4eee-d733-983360db2dc0"
      },
      "outputs": [
        {
          "data": {
            "text/plain": [
              "array([[[0.84784568, 0.611805  , 0.39486165],\n",
              "        [0.35329966, 0.17088452, 0.88144331],\n",
              "        [0.36859872, 0.820183  , 0.70795217]],\n",
              "\n",
              "       [[0.8688438 , 0.74573532, 0.19085084],\n",
              "        [0.65696833, 0.18187976, 0.87544231],\n",
              "        [0.21850811, 0.7269759 , 0.85505563]],\n",
              "\n",
              "       [[0.35504499, 0.45725462, 0.98211786],\n",
              "        [0.04399201, 0.80093432, 0.18902351],\n",
              "        [0.81123929, 0.37561786, 0.59396139]]])"
            ]
          },
          "execution_count": 27,
          "metadata": {},
          "output_type": "execute_result"
        }
      ],
      "source": [
        "_3darray=np.random.random((3,3,3))\n",
        "_3darray"
      ]
    },
    {
      "cell_type": "markdown",
      "metadata": {
        "id": "GJGYsX_7Kb3E"
      },
      "source": [
        "#### 13. Create a 10x10 array with random values and find the minimum and maximum values (★☆☆) \n",
        "(**hint**: min, max)"
      ]
    },
    {
      "cell_type": "code",
      "execution_count": null,
      "metadata": {
        "colab": {
          "base_uri": "https://localhost:8080/"
        },
        "id": "YYhuYq8zKb3F",
        "outputId": "cf3a0db1-1866-48b1-865c-19347ed05e29"
      },
      "outputs": [
        {
          "name": "stdout",
          "output_type": "stream",
          "text": [
            "MINIMUM IS:5\n",
            "Maximum is :197\n"
          ]
        }
      ],
      "source": [
        "arr7=np.random.randint(0,200,(10,10))\n",
        "print('MINIMUM IS:{}\\nMaximum is :{}'.format(arr7.min(),arr7.max()))"
      ]
    },
    {
      "cell_type": "markdown",
      "metadata": {
        "id": "o5Aq17WcKb3F"
      },
      "source": [
        "#### 14. Create a random vector of size 30 and find the mean value (★☆☆) \n",
        "(**hint**: mean)"
      ]
    },
    {
      "cell_type": "code",
      "execution_count": null,
      "metadata": {
        "colab": {
          "base_uri": "https://localhost:8080/"
        },
        "id": "fWFICLYMKb3G",
        "outputId": "8a54e3dc-76bd-4ec4-ac76-af25648fbbf5"
      },
      "outputs": [
        {
          "name": "stdout",
          "output_type": "stream",
          "text": [
            "MEAN of the vector is 4.866666666666666\n"
          ]
        },
        {
          "data": {
            "text/plain": [
              "array([5, 0, 3, 3, 7, 9, 3, 5, 2, 4, 7, 6, 8, 8, 1, 6, 7, 7, 8, 1, 5, 9,\n",
              "       8, 9, 4, 3, 0, 3, 5, 0])"
            ]
          },
          "execution_count": 28,
          "metadata": {},
          "output_type": "execute_result"
        }
      ],
      "source": [
        "np.random.seed(0)\n",
        "arr8=np.random.randint(0,10,30)\n",
        "print('MEAN of the vector is',arr8.mean())\n",
        "arr8"
      ]
    },
    {
      "cell_type": "markdown",
      "metadata": {
        "id": "OyfBV0r6Kb3H"
      },
      "source": [
        "#### 15. Create a 2d array with 1 on the border and 0 inside (★☆☆) \n",
        "(**hint**: array\\[1:-1, 1:-1\\])"
      ]
    },
    {
      "cell_type": "code",
      "execution_count": null,
      "metadata": {
        "colab": {
          "base_uri": "https://localhost:8080/"
        },
        "id": "p9BqvddAKb3I",
        "outputId": "0c83e3e0-c67c-4985-e46b-490a7854ccac"
      },
      "outputs": [
        {
          "data": {
            "text/plain": [
              "array([[1., 1., 1., 1., 1.],\n",
              "       [1., 0., 0., 0., 1.],\n",
              "       [1., 0., 0., 0., 1.],\n",
              "       [1., 0., 0., 0., 1.],\n",
              "       [1., 1., 1., 1., 1.]])"
            ]
          },
          "execution_count": 2,
          "metadata": {},
          "output_type": "execute_result"
        }
      ],
      "source": [
        "arr9=np.ones((5,5))\n",
        "arr9[1:-1,1:-1]=0\n",
        "arr9"
      ]
    },
    {
      "cell_type": "markdown",
      "metadata": {
        "id": "BC3UHFZ5Kb3J"
      },
      "source": [
        "#### 16. How to add a border (filled with 0's) around an existing array? (★☆☆) \n",
        "(**hint**: np.pad)"
      ]
    },
    {
      "cell_type": "code",
      "execution_count": null,
      "metadata": {
        "colab": {
          "base_uri": "https://localhost:8080/"
        },
        "id": "9F5o_432Kb3K",
        "outputId": "8d086906-dbc2-4895-9280-b12ecace8740"
      },
      "outputs": [
        {
          "data": {
            "text/plain": [
              "array([[0., 0., 0., 0., 0., 0., 0.],\n",
              "       [0., 1., 1., 1., 1., 1., 0.],\n",
              "       [0., 1., 0., 0., 0., 1., 0.],\n",
              "       [0., 1., 0., 0., 0., 1., 0.],\n",
              "       [0., 1., 0., 0., 0., 1., 0.],\n",
              "       [0., 1., 1., 1., 1., 1., 0.],\n",
              "       [0., 0., 0., 0., 0., 0., 0.]])"
            ]
          },
          "execution_count": 4,
          "metadata": {},
          "output_type": "execute_result"
        }
      ],
      "source": [
        "arr10=np.pad(arr9,[],mode='constant')\n",
        "arr10"
      ]
    },
    {
      "cell_type": "markdown",
      "metadata": {
        "id": "6y3J-qTPKb3L"
      },
      "source": [
        "#### 17. What is the result of the following expression? (★☆☆) \n",
        "(**hint**: NaN = not a number, inf = infinity)"
      ]
    },
    {
      "cell_type": "markdown",
      "metadata": {
        "id": "R-xjepkSKb3M"
      },
      "source": [
        "```python\n",
        "0 * np.nan\n",
        "np.nan == np.nan\n",
        "np.inf > np.nan\n",
        "np.nan - np.nan\n",
        "0.3 == 3 * 0.1\n",
        "```"
      ]
    },
    {
      "cell_type": "code",
      "execution_count": null,
      "metadata": {
        "colab": {
          "base_uri": "https://localhost:8080/"
        },
        "id": "06Z6RFN4Kb3N",
        "outputId": "19e12517-0e85-4eb9-bab9-2cb7dc076e86"
      },
      "outputs": [
        {
          "name": "stdout",
          "output_type": "stream",
          "text": [
            "nan\n",
            "False\n",
            "False\n",
            "nan\n",
            "False\n"
          ]
        }
      ],
      "source": [
        "print(0*np.nan)\n",
        "print(np.nan == np.nan)\n",
        "print(np.inf > np.nan)\n",
        "print(np.nan - np.nan)\n",
        "print(0.3 == 3 * 0.1)"
      ]
    },
    {
      "cell_type": "markdown",
      "metadata": {
        "id": "tawr07g4Kb3N"
      },
      "source": [
        "#### 18. Create a 5x5 matrix with values 1,2,3,4 just below the diagonal (★☆☆) \n",
        "(**hint**: np.diag)"
      ]
    },
    {
      "cell_type": "code",
      "execution_count": null,
      "metadata": {
        "colab": {
          "base_uri": "https://localhost:8080/"
        },
        "id": "Hsamrd1PKb3O",
        "outputId": "2ada7285-2aca-488a-b997-201f29d2af1b"
      },
      "outputs": [
        {
          "data": {
            "text/plain": [
              "array([[0, 0, 0, 0, 0],\n",
              "       [1, 0, 0, 0, 0],\n",
              "       [0, 2, 0, 0, 0],\n",
              "       [0, 0, 3, 0, 0],\n",
              "       [0, 0, 0, 4, 0]])"
            ]
          },
          "execution_count": 16,
          "metadata": {},
          "output_type": "execute_result"
        }
      ],
      "source": [
        "np.diag([1,2,3,4],k=-1)"
      ]
    },
    {
      "cell_type": "markdown",
      "metadata": {
        "id": "9IPpL-xtKb3P"
      },
      "source": [
        "#### 19. Create a 8x8 matrix and fill it with a checkerboard pattern (★☆☆) \n",
        "(**hint**: array\\[::2\\])"
      ]
    },
    {
      "cell_type": "code",
      "execution_count": null,
      "metadata": {
        "colab": {
          "base_uri": "https://localhost:8080/"
        },
        "id": "L0k4EPx8Kb3Q",
        "outputId": "8ab0803b-6afe-43fa-8d40-b5c6fd9ddd0c"
      },
      "outputs": [
        {
          "data": {
            "text/plain": [
              "array([[0., 1., 0., 1., 0., 1., 0., 1.],\n",
              "       [1., 0., 1., 0., 1., 0., 1., 0.],\n",
              "       [0., 1., 0., 1., 0., 1., 0., 1.],\n",
              "       [1., 0., 1., 0., 1., 0., 1., 0.],\n",
              "       [0., 1., 0., 1., 0., 1., 0., 1.],\n",
              "       [1., 0., 1., 0., 1., 0., 1., 0.],\n",
              "       [0., 1., 0., 1., 0., 1., 0., 1.],\n",
              "       [1., 0., 1., 0., 1., 0., 1., 0.]])"
            ]
          },
          "execution_count": 25,
          "metadata": {},
          "output_type": "execute_result"
        }
      ],
      "source": [
        "checkerboard=np.zeros((8,8))\n",
        "checkerboard[1::2,::2]=1\n",
        "checkerboard[::2, 1::2]=1\n",
        "checkerboard"
      ]
    },
    {
      "cell_type": "markdown",
      "metadata": {
        "id": "y9QoF5u_Kb3Q"
      },
      "source": [
        "#### 20. Consider a (6,7,8) shape array, what is the index (x,y,z) of the 100th element? \n",
        "(**hint**: np.unravel_index)"
      ]
    },
    {
      "cell_type": "code",
      "execution_count": null,
      "metadata": {
        "colab": {
          "base_uri": "https://localhost:8080/"
        },
        "id": "g9kGEccgKb3R",
        "outputId": "0fd947d5-2104-48f2-9dbd-80b4e92b75c5"
      },
      "outputs": [
        {
          "name": "stdout",
          "output_type": "stream",
          "text": [
            "(1, 5, 3)\n"
          ]
        }
      ],
      "source": [
        "print(np.unravel_index(99,(6,7,8)))"
      ]
    },
    {
      "cell_type": "markdown",
      "metadata": {
        "id": "OpkzN_TAKb3S"
      },
      "source": [
        "#### 21. Create a checkerboard 8x8 matrix using the tile function (★☆☆) \n",
        "(**hint**: np.tile)"
      ]
    },
    {
      "cell_type": "code",
      "execution_count": null,
      "metadata": {
        "colab": {
          "base_uri": "https://localhost:8080/"
        },
        "id": "6Xi-w9hvKb3T",
        "outputId": "5c619214-c4a3-44ee-9fd1-62356f8a3a42"
      },
      "outputs": [
        {
          "name": "stdout",
          "output_type": "stream",
          "text": [
            "[[0 1 0 1 0 1 0 1]\n",
            " [1 0 1 0 1 0 1 0]\n",
            " [0 1 0 1 0 1 0 1]\n",
            " [1 0 1 0 1 0 1 0]\n",
            " [0 1 0 1 0 1 0 1]\n",
            " [1 0 1 0 1 0 1 0]\n",
            " [0 1 0 1 0 1 0 1]\n",
            " [1 0 1 0 1 0 1 0]]\n"
          ]
        }
      ],
      "source": [
        "z=np.tile(np.array([[0,1],[1,0]]),(4,4))\n",
        "print(z)"
      ]
    },
    {
      "cell_type": "markdown",
      "metadata": {
        "id": "09Wzkx64Kb3U"
      },
      "source": [
        "#### 22. Normalize a 5x5 random matrix (★☆☆) \n",
        "(**hint**: (x - min) / (max - min))"
      ]
    },
    {
      "cell_type": "code",
      "execution_count": null,
      "metadata": {
        "colab": {
          "base_uri": "https://localhost:8080/"
        },
        "id": "IF4ZhJomKb3U",
        "outputId": "3a98d8e6-1ee1-4077-f93a-b1748c884bd7"
      },
      "outputs": [
        {
          "name": "stdout",
          "output_type": "stream",
          "text": [
            "5*5 random matix (before normalization):\n",
            " [[44 47 64 67 67]\n",
            " [ 9 83 21 36 87]\n",
            " [70 88 88 12 58]\n",
            " [65 39 87 46 88]\n",
            " [81 37 25 77 72]]\n",
            "5*5 random matix (after normalization):\n",
            " [[-0.44303797 -0.48101266 -0.69620253 -0.73417722 -0.73417722]\n",
            " [-0.         -0.93670886 -0.15189873 -0.34177215 -0.98734177]\n",
            " [-0.7721519  -1.         -1.         -0.03797468 -0.62025316]\n",
            " [-0.70886076 -0.37974684 -0.98734177 -0.46835443 -1.        ]\n",
            " [-0.91139241 -0.35443038 -0.20253165 -0.86075949 -0.79746835]]\n"
          ]
        }
      ],
      "source": [
        "np.random.seed(0)\n",
        "array=np.random.randint(0,100,(5,5))\n",
        "min=array.min()\n",
        "max=array.max()\n",
        "Normalizedmatrix=(array-min)/(min-max)\n",
        "print('5*5 random matix (before normalization):\\n',array)\n",
        "print('5*5 random matix (after normalization):\\n',Normalizedmatrix)"
      ]
    },
    {
      "cell_type": "markdown",
      "metadata": {
        "id": "7EzGCk5ZKb3V"
      },
      "source": [
        "#### 23. Create a custom dtype that describes a color as four unsigned bytes (RGBA) (★☆☆) \n",
        "(**hint**: np.dtype)"
      ]
    },
    {
      "cell_type": "code",
      "execution_count": null,
      "metadata": {
        "colab": {
          "base_uri": "https://localhost:8080/"
        },
        "collapsed": true,
        "id": "pdHXulqHKb3V",
        "outputId": "72ab71d3-de67-4738-e888-9ac96e0ef701"
      },
      "outputs": [
        {
          "data": {
            "text/plain": [
              "dtype([('r', 'u1', (1,)), ('g', 'u1', (1,)), ('b', 'u1', (1,)), ('a', 'u1', (1,))])"
            ]
          },
          "execution_count": 49,
          "metadata": {},
          "output_type": "execute_result"
        }
      ],
      "source": [
        "colors=np.dtype([\n",
        "    (\"r\",np.ubyte,(1,)),\n",
        "    (\"g\",np.ubyte,(1,)),\n",
        "    (\"b\",np.ubyte,(1,)),\n",
        "    (\"a\",np.ubyte,(1,)),\n",
        "])\n",
        "colors"
      ]
    },
    {
      "cell_type": "markdown",
      "metadata": {
        "id": "w-brhsfQKb3W"
      },
      "source": [
        "#### 24. Multiply a 5x3 matrix by a 3x2 matrix (real matrix product) (★☆☆) \n",
        "(**hint**: np.dot | @)"
      ]
    },
    {
      "cell_type": "code",
      "execution_count": null,
      "metadata": {
        "colab": {
          "base_uri": "https://localhost:8080/"
        },
        "id": "CfaPe5b-Kb3X",
        "outputId": "ebed5601-0d1d-4e13-ab68-dc7b1b0f17bb"
      },
      "outputs": [
        {
          "name": "stdout",
          "output_type": "stream",
          "text": [
            "[[2114 1200]\n",
            " [1600 2607]\n",
            " [8276 5745]\n",
            " [6214 2862]\n",
            " [8926 6147]]\n",
            "[[2114 1200]\n",
            " [1600 2607]\n",
            " [8276 5745]\n",
            " [6214 2862]\n",
            " [8926 6147]]\n"
          ]
        }
      ],
      "source": [
        "X=np.random.randint(1,100,(5,3))\n",
        "Y=np.random.randint(1,100,(3,2))\n",
        "print(np.dot(X,Y))\n",
        "Matrixmultiplication=X@Y\n",
        "print(Matrixmultiplication)"
      ]
    },
    {
      "cell_type": "markdown",
      "metadata": {
        "id": "kI0r1CA5Kb3X"
      },
      "source": [
        "#### 25. Given a 1D array, negate all elements which are between 3 and 8, in place. (★☆☆) \n",
        "(**hint**: >, <=)"
      ]
    },
    {
      "cell_type": "code",
      "execution_count": null,
      "metadata": {
        "colab": {
          "base_uri": "https://localhost:8080/"
        },
        "id": "1uivoTagKb3Y",
        "outputId": "8f42e37a-712c-4dc2-a1a0-19b4ac73a61c"
      },
      "outputs": [
        {
          "data": {
            "text/plain": [
              "array([ 12,  15,   0,   3,  -3,  -7,  -9, -19, -18,   4])"
            ]
          },
          "execution_count": 7,
          "metadata": {},
          "output_type": "execute_result"
        }
      ],
      "source": [
        "np.random.seed(0)\n",
        "arr11=np.random.randint(0,20,10)\n",
        "arr11[4:9]*=-1\n",
        "arr11"
      ]
    },
    {
      "cell_type": "markdown",
      "metadata": {
        "id": "GJn8urANKb3Y"
      },
      "source": [
        "#### 26. What is the output of the following script? (★☆☆) \n",
        "(**hint**: np.sum)"
      ]
    },
    {
      "cell_type": "markdown",
      "metadata": {
        "id": "5Dun_5y0Kb3Z"
      },
      "source": [
        "```python\n",
        "# Author: Jake VanderPlas\n",
        "\n",
        "print(sum(range(5),-1))\n",
        "from numpy import *\n",
        "print(sum(range(5),-1))\n",
        "```"
      ]
    },
    {
      "cell_type": "code",
      "execution_count": null,
      "metadata": {
        "colab": {
          "base_uri": "https://localhost:8080/"
        },
        "id": "GnsvbmInKb3a",
        "outputId": "1fbd3814-a36a-4f77-9e0d-23d8c4d4f964"
      },
      "outputs": [
        {
          "name": "stdout",
          "output_type": "stream",
          "text": [
            "9\n",
            "10\n"
          ]
        }
      ],
      "source": [
        "print(sum(range(5),-1))\n",
        "from numpy import *\n",
        "print(sum(range(5),-1))"
      ]
    },
    {
      "cell_type": "markdown",
      "metadata": {
        "id": "5ukl8m4-Kb3a"
      },
      "source": [
        "#### 27. Consider an integer vector Z, which of these expressions are legal? (★☆☆)"
      ]
    },
    {
      "cell_type": "markdown",
      "metadata": {
        "id": "Fwrm9PaCKb3b"
      },
      "source": [
        "```python\n",
        "Z**Z\n",
        "2 << Z >> 2\n",
        "Z <- Z\n",
        "1j*Z\n",
        "Z/1/1\n",
        "Z<Z>Z\n",
        "```"
      ]
    },
    {
      "cell_type": "code",
      "execution_count": null,
      "metadata": {
        "colab": {
          "base_uri": "https://localhost:8080/",
          "height": 391
        },
        "id": "0tnp0f67Kb3c",
        "outputId": "88613b23-2c5f-44dc-bdc8-9fb8185843cc"
      },
      "outputs": [
        {
          "name": "stdout",
          "output_type": "stream",
          "text": [
            "[-5821812116355782473                    0             16777216\n",
            " -2101438300051996672 -1902703244836818301 -8206467232675302283\n",
            " -5296008294479953920 -4053175462519618527  8037740809528595931\n",
            " -8795647696940200745]\n",
            "[                0 36028797018963968               128            524288\n",
            "                 0                 0        8589934592        4294967296\n",
            "                 0      274877906944]\n",
            "[False False False False False False False False False False]\n",
            "[0.+71.j 0.+56.j 0. +8.j 0.+20.j 0.+91.j 0.+69.j 0.+34.j 0.+33.j 0.+67.j\n",
            " 0.+39.j]\n",
            "[71. 56.  8. 20. 91. 69. 34. 33. 67. 39.]\n"
          ]
        },
        {
          "ename": "ValueError",
          "evalue": "ignored",
          "output_type": "error",
          "traceback": [
            "\u001b[0;31m---------------------------------------------------------------------------\u001b[0m",
            "\u001b[0;31mValueError\u001b[0m                                Traceback (most recent call last)",
            "\u001b[0;32m<ipython-input-8-c33ab4a6b67c>\u001b[0m in \u001b[0;36m<module>\u001b[0;34m\u001b[0m\n\u001b[1;32m      5\u001b[0m \u001b[0mprint\u001b[0m\u001b[0;34m(\u001b[0m\u001b[0;36m1j\u001b[0m\u001b[0;34m*\u001b[0m\u001b[0mZ\u001b[0m\u001b[0;34m)\u001b[0m\u001b[0;34m\u001b[0m\u001b[0;34m\u001b[0m\u001b[0m\n\u001b[1;32m      6\u001b[0m \u001b[0mprint\u001b[0m\u001b[0;34m(\u001b[0m\u001b[0mZ\u001b[0m\u001b[0;34m/\u001b[0m\u001b[0;36m1\u001b[0m\u001b[0;34m/\u001b[0m\u001b[0;36m1\u001b[0m\u001b[0;34m)\u001b[0m\u001b[0;34m\u001b[0m\u001b[0;34m\u001b[0m\u001b[0m\n\u001b[0;32m----> 7\u001b[0;31m \u001b[0mprint\u001b[0m\u001b[0;34m(\u001b[0m\u001b[0mZ\u001b[0m\u001b[0;34m<\u001b[0m\u001b[0mZ\u001b[0m\u001b[0;34m>\u001b[0m\u001b[0mZ\u001b[0m\u001b[0;34m)\u001b[0m\u001b[0;34m\u001b[0m\u001b[0;34m\u001b[0m\u001b[0m\n\u001b[0m",
            "\u001b[0;31mValueError\u001b[0m: The truth value of an array with more than one element is ambiguous. Use a.any() or a.all()"
          ]
        }
      ],
      "source": [
        "Z=np.random.randint(0,100,10,dtype=int)\n",
        "print(Z**Z) #legal\n",
        "print(2 << Z >> 2) #legal\n",
        "print(Z <- Z)\n",
        "print(1j*Z)\n",
        "print(Z/1/1)\n",
        "print(Z<Z>Z)"
      ]
    },
    {
      "cell_type": "markdown",
      "metadata": {
        "id": "fil63uxaKb3c"
      },
      "source": [
        "#### 28. What are the result of the following expressions?"
      ]
    },
    {
      "cell_type": "markdown",
      "metadata": {
        "id": "7lsK7_ZcKb3d"
      },
      "source": [
        "```python\n",
        "np.array(0) / np.array(0)\n",
        "np.array(0) // np.array(0)\n",
        "np.array([np.nan]).astype(int).astype(float)\n",
        "```"
      ]
    },
    {
      "cell_type": "code",
      "execution_count": null,
      "metadata": {
        "colab": {
          "base_uri": "https://localhost:8080/"
        },
        "id": "uf2hZE9dKb3d",
        "outputId": "9a2b3167-56b7-4e59-9f4f-772943f54454"
      },
      "outputs": [
        {
          "name": "stdout",
          "output_type": "stream",
          "text": [
            "nan\n",
            "0\n",
            "[-9.22337204e+18]\n"
          ]
        },
        {
          "name": "stderr",
          "output_type": "stream",
          "text": [
            "<ipython-input-10-2a10de0ee61b>:1: RuntimeWarning: invalid value encountered in true_divide\n",
            "  print(np.array(0) / np.array(0))\n",
            "<ipython-input-10-2a10de0ee61b>:2: RuntimeWarning: divide by zero encountered in floor_divide\n",
            "  print(np.array(0) // np.array(0))\n"
          ]
        }
      ],
      "source": [
        "print(np.array(0) / np.array(0))\n",
        "print(np.array(0) // np.array(0))\n",
        "print(np.array([np.nan]).astype(int).astype(float))"
      ]
    },
    {
      "cell_type": "markdown",
      "metadata": {
        "id": "_fmB8ye3Kb3e"
      },
      "source": [
        "#### 29. How to round away from zero a float array ? (★☆☆) \n",
        "(**hint**: np.uniform, np.copysign, np.ceil, np.abs)"
      ]
    },
    {
      "cell_type": "code",
      "execution_count": null,
      "metadata": {
        "colab": {
          "base_uri": "https://localhost:8080/"
        },
        "id": "4_aMnLXJKb3e",
        "outputId": "4c71e37f-4f86-44d3-cc85-546912680015"
      },
      "outputs": [
        {
          "name": "stdout",
          "output_type": "stream",
          "text": [
            "[  1. -17.   2.   5.  -2.   3.   4.   5. -15. -13.]\n"
          ]
        }
      ],
      "source": [
        "S=np.random.randint(-20,10,10)\n",
        "result=np.copysign(np.ceil(np.ceil(S)),S)\n",
        "print(result)"
      ]
    },
    {
      "cell_type": "markdown",
      "metadata": {
        "id": "4fMidIAmKb3f"
      },
      "source": [
        "#### 30. How to find common values between two arrays? (★☆☆) \n",
        "(**hint**: np.intersect1d)"
      ]
    },
    {
      "cell_type": "code",
      "execution_count": null,
      "metadata": {
        "colab": {
          "base_uri": "https://localhost:8080/"
        },
        "id": "eo4NrN2iKb3g",
        "outputId": "d03765d9-d62f-494f-9be6-d469396f8292"
      },
      "outputs": [
        {
          "data": {
            "text/plain": [
              "array([6, 7, 8])"
            ]
          },
          "execution_count": 31,
          "metadata": {},
          "output_type": "execute_result"
        }
      ],
      "source": [
        "X=np.random.randint(0,10,10)\n",
        "Y=np.random.randint(1,10,10)\n",
        "np.intersect1d(X,Y)"
      ]
    },
    {
      "cell_type": "markdown",
      "metadata": {
        "id": "VUHEb4RTKb3g"
      },
      "source": [
        "#### 31. How to ignore all numpy warnings (not recommended)? (★☆☆) \n",
        "(**hint**: np.seterr, np.errstate)"
      ]
    },
    {
      "cell_type": "code",
      "execution_count": null,
      "metadata": {
        "colab": {
          "base_uri": "https://localhost:8080/"
        },
        "id": "oNGuND-oKb3h",
        "outputId": "c272006e-acb5-4cb1-a717-73542aeb2fed"
      },
      "outputs": [
        {
          "data": {
            "text/plain": [
              "array([inf])"
            ]
          },
          "execution_count": 4,
          "metadata": {},
          "output_type": "execute_result"
        }
      ],
      "source": [
        "np.seterr(all='ignore')\n",
        "x=np.array([1])\n",
        "y=np.array([0])\n",
        "x/y"
      ]
    },
    {
      "cell_type": "markdown",
      "metadata": {
        "id": "J04HG2wmKb3i"
      },
      "source": [
        "#### 32. Is the following expressions true? (★☆☆) \n",
        "(**hint**: imaginary number)"
      ]
    },
    {
      "cell_type": "markdown",
      "metadata": {
        "id": "CApwtZx6Kb3j"
      },
      "source": [
        "```python\n",
        "np.sqrt(-1) == np.emath.sqrt(-1)\n",
        "```"
      ]
    },
    {
      "cell_type": "code",
      "execution_count": null,
      "metadata": {
        "colab": {
          "base_uri": "https://localhost:8080/"
        },
        "id": "YNjMvrG_Kb3k",
        "outputId": "6bd7873a-63af-4d52-b442-cd7cc693eb0c"
      },
      "outputs": [
        {
          "name": "stdout",
          "output_type": "stream",
          "text": [
            "No it is not true\n"
          ]
        },
        {
          "name": "stderr",
          "output_type": "stream",
          "text": [
            "<ipython-input-33-ee1549ef1cc1>:1: RuntimeWarning: invalid value encountered in sqrt\n",
            "  np.sqrt(-1) == np.emath.sqrt(-1)\n"
          ]
        }
      ],
      "source": [
        "np.sqrt(-1) == np.emath.sqrt(-1)\n",
        "print('No it is not true')"
      ]
    },
    {
      "cell_type": "markdown",
      "metadata": {
        "id": "zGGR8GyNKb3l"
      },
      "source": [
        "#### 33. How to get the dates of yesterday, today and tomorrow? (★☆☆) \n",
        "(**hint**: np.datetime64, np.timedelta64)"
      ]
    },
    {
      "cell_type": "code",
      "execution_count": null,
      "metadata": {
        "colab": {
          "base_uri": "https://localhost:8080/"
        },
        "collapsed": true,
        "id": "m3CP2f0PKb3m",
        "outputId": "837ea482-3668-4162-eb0c-b6f5e9b01014"
      },
      "outputs": [
        {
          "name": "stdout",
          "output_type": "stream",
          "text": [
            "Yesterday:2022-12-28\n",
            "today:2022-12-29\n",
            "tommorrow:2022-12-30\n"
          ]
        }
      ],
      "source": [
        "yesterday=np.datetime64('today','D')-np.timedelta64(1,'D')\n",
        "today=np.datetime64('today','D')\n",
        "tomorrow=np.datetime64('today','D')+np.timedelta64(1,'D')\n",
        "print('Yesterday:{}\\ntoday:{}\\ntommorrow:{}'.format(yesterday,today,tomorrow))"
      ]
    },
    {
      "cell_type": "markdown",
      "metadata": {
        "id": "7av8ub34Kb3m"
      },
      "source": [
        "#### 34. How to get all the dates corresponding to the month of July 2016? (★★☆) \n",
        "(**hint**: np.arange(dtype=datetime64\\['D'\\]))"
      ]
    },
    {
      "cell_type": "code",
      "execution_count": null,
      "metadata": {
        "colab": {
          "base_uri": "https://localhost:8080/"
        },
        "id": "D4byQC4VKb3n",
        "outputId": "9c47907a-9470-4541-9b86-cdf4dbb36856"
      },
      "outputs": [
        {
          "data": {
            "text/plain": [
              "array(['2016-07-01', '2016-07-02', '2016-07-03', '2016-07-04',\n",
              "       '2016-07-05', '2016-07-06', '2016-07-07', '2016-07-08',\n",
              "       '2016-07-09', '2016-07-10', '2016-07-11', '2016-07-12',\n",
              "       '2016-07-13', '2016-07-14', '2016-07-15', '2016-07-16',\n",
              "       '2016-07-17', '2016-07-18', '2016-07-19', '2016-07-20',\n",
              "       '2016-07-21', '2016-07-22', '2016-07-23', '2016-07-24',\n",
              "       '2016-07-25', '2016-07-26', '2016-07-27', '2016-07-28',\n",
              "       '2016-07-29', '2016-07-30', '2016-07-31'], dtype='datetime64[D]')"
            ]
          },
          "execution_count": 30,
          "metadata": {},
          "output_type": "execute_result"
        }
      ],
      "source": [
        "Range=np.arange('2016-07','2016-08',dtype=\"datetime64[D]\")\n",
        "Range"
      ]
    },
    {
      "cell_type": "markdown",
      "metadata": {
        "id": "a0e4aeozKb3o"
      },
      "source": [
        "#### 35. How to compute ((A+B)\\*(-A/2)) in place (without copy)? (★★☆) \n",
        "(**hint**: np.add(out=), np.negative(out=), np.multiply(out=), np.divide(out=))"
      ]
    },
    {
      "cell_type": "code",
      "execution_count": null,
      "metadata": {
        "colab": {
          "base_uri": "https://localhost:8080/"
        },
        "id": "fNkEp76NKb3p",
        "outputId": "eb1ec5db-d40f-4fe2-ccc5-ec4024a6022e"
      },
      "outputs": [
        {
          "data": {
            "text/plain": [
              "array([[-20., -20., -20.],\n",
              "       [-20., -20., -20.],\n",
              "       [-20., -20., -20.]])"
            ]
          },
          "execution_count": 56,
          "metadata": {},
          "output_type": "execute_result"
        }
      ],
      "source": [
        "A=5*np.ones((3,3))\n",
        "B=3*np.ones((3,3))\n",
        "np.add(A,B,out=B)\n",
        "np.divide(A,2,out=A)\n",
        "np.negative(A,out=A)\n",
        "np.multiply(A,B,out=A)"
      ]
    },
    {
      "cell_type": "markdown",
      "metadata": {
        "id": "mlY9dogMKb3p"
      },
      "source": [
        "#### 36. Extract the integer part of a random array using 5 different methods (★★☆) \n",
        "(**hint**: %, np.floor, np.ceil, astype, np.trunc)"
      ]
    },
    {
      "cell_type": "code",
      "execution_count": null,
      "metadata": {
        "colab": {
          "base_uri": "https://localhost:8080/"
        },
        "id": "LJOhgPfMKb3r",
        "outputId": "4fb4b112-c2cf-465c-9179-7f46f5d0f032"
      },
      "outputs": [
        {
          "name": "stdout",
          "output_type": "stream",
          "text": [
            "[-2. -1.  1.  1.  0. -1. -1. -2. -1. -1.]\n",
            "[-2. -1.  1.  1.  0. -1. -1. -2. -1. -1.]\n",
            "[-2. -1.  1.  1.  0. -1. -1. -2. -1. -1.]\n",
            "[-1  0  1  1  0  0  0 -1  0  0]\n",
            "[-1. -0.  1.  1.  0. -0. -0. -1. -0. -0.]\n"
          ]
        }
      ],
      "source": [
        "Z = np.random.randn(10)\n",
        "\n",
        "print (Z - Z%1)\n",
        "print (np.floor(Z))\n",
        "print (np.ceil(Z)-1)\n",
        "print (Z.astype(int))\n",
        "print (np.trunc(Z))"
      ]
    },
    {
      "cell_type": "markdown",
      "metadata": {
        "id": "e0sbgbQEKb3r"
      },
      "source": [
        "#### 37. Create a 5x5 matrix with row values ranging from 0 to 4 (★★☆) \n",
        "(**hint**: np.arange)"
      ]
    },
    {
      "cell_type": "code",
      "execution_count": null,
      "metadata": {
        "colab": {
          "base_uri": "https://localhost:8080/"
        },
        "id": "9vnVDRfIKb3t",
        "outputId": "d73dac47-4e2d-4287-969c-0e7338aa0002"
      },
      "outputs": [
        {
          "data": {
            "text/plain": [
              "array([[0., 1., 2., 3., 4.],\n",
              "       [0., 1., 2., 3., 4.],\n",
              "       [0., 1., 2., 3., 4.],\n",
              "       [0., 1., 2., 3., 4.],\n",
              "       [0., 1., 2., 3., 4.]])"
            ]
          },
          "execution_count": 37,
          "metadata": {},
          "output_type": "execute_result"
        }
      ],
      "source": [
        "matrix=np.ones((5,5))\n",
        "matrix*=np.arange(0,5)\n",
        "matrix"
      ]
    },
    {
      "cell_type": "markdown",
      "metadata": {
        "id": "aIGWHzTrKb3t"
      },
      "source": [
        "#### 38. Consider a generator function that generates 10 integers and use it to build an array (★☆☆) \n",
        "(**hint**: np.fromiter)"
      ]
    },
    {
      "cell_type": "code",
      "execution_count": null,
      "metadata": {
        "colab": {
          "base_uri": "https://localhost:8080/"
        },
        "id": "igMpeCT5Kb3u",
        "outputId": "219d2757-f5f2-40e3-ef9f-2cad4d7777b8"
      },
      "outputs": [
        {
          "data": {
            "text/plain": [
              "array([ 0.,  1.,  4.,  9., 16., 25., 36., 49., 64., 81.])"
            ]
          },
          "execution_count": 59,
          "metadata": {},
          "output_type": "execute_result"
        }
      ],
      "source": [
        "iter=[x*x for x in range(10)]\n",
        "MX=np.fromiter(iter,dtype=float)\n",
        "MX"
      ]
    },
    {
      "cell_type": "markdown",
      "metadata": {
        "id": "6h6Zkh7cKb3v"
      },
      "source": [
        "#### 39. Create a vector of size 10 with values ranging from 0 to 1, both excluded (★★☆) \n",
        "(**hint**: np.linspace)"
      ]
    },
    {
      "cell_type": "code",
      "execution_count": null,
      "metadata": {
        "colab": {
          "base_uri": "https://localhost:8080/"
        },
        "id": "-m7JBOZnKb3w",
        "outputId": "06136b1c-e0f4-48b4-f69b-79c67a787fd2"
      },
      "outputs": [
        {
          "data": {
            "text/plain": [
              "array([0.        , 0.09090909, 0.18181818, 0.27272727, 0.36363636,\n",
              "       0.45454545, 0.54545455, 0.63636364, 0.72727273, 0.81818182,\n",
              "       0.90909091])"
            ]
          },
          "execution_count": 9,
          "metadata": {},
          "output_type": "execute_result"
        }
      ],
      "source": [
        "Vector=np.linspace(0,1,11,endpoint=False)\n",
        "Vector"
      ]
    },
    {
      "cell_type": "markdown",
      "metadata": {
        "id": "Kj2OGeF6Kb3x"
      },
      "source": [
        "#### 40. Create a random vector of size 10 and sort it (★★☆) \n",
        "(**hint**: sort)"
      ]
    },
    {
      "cell_type": "code",
      "execution_count": null,
      "metadata": {
        "colab": {
          "base_uri": "https://localhost:8080/"
        },
        "id": "XXgDHmy1Kb3y",
        "outputId": "d11ac6d9-53e9-4146-b2f8-bb4d538f1a73"
      },
      "outputs": [
        {
          "name": "stdout",
          "output_type": "stream",
          "text": [
            "[16  5  8  2 14 14 13  6  5 15]\n"
          ]
        },
        {
          "data": {
            "text/plain": [
              "array([ 2,  5,  5,  6,  8, 13, 14, 14, 15, 16])"
            ]
          },
          "execution_count": 40,
          "metadata": {},
          "output_type": "execute_result"
        }
      ],
      "source": [
        "arr13=np.random.randint(0,20,10)\n",
        "print(arr13)\n",
        "np.sort(arr13)"
      ]
    },
    {
      "cell_type": "markdown",
      "metadata": {
        "id": "uZ-Bba__Kb3y"
      },
      "source": [
        "#### 41. How to sum a small array faster than np.sum? (★★☆) \n",
        "(**hint**: np.add.reduce)"
      ]
    },
    {
      "cell_type": "code",
      "execution_count": null,
      "metadata": {
        "colab": {
          "base_uri": "https://localhost:8080/"
        },
        "id": "WatrmryzKb3z",
        "outputId": "56501056-31a8-41c0-ddbc-39cb11ad6d33"
      },
      "outputs": [
        {
          "data": {
            "text/plain": [
              "63"
            ]
          },
          "execution_count": 65,
          "metadata": {},
          "output_type": "execute_result"
        }
      ],
      "source": [
        "\n",
        "np.add.reduce([3,4,56])"
      ]
    },
    {
      "cell_type": "markdown",
      "metadata": {
        "id": "XGV0NqceKb30"
      },
      "source": [
        "#### 42. Consider two random array A and B, check if they are equal (★★☆) \n",
        "(**hint**: np.allclose, np.array\\_equal)"
      ]
    },
    {
      "cell_type": "code",
      "execution_count": null,
      "metadata": {
        "colab": {
          "base_uri": "https://localhost:8080/"
        },
        "id": "R6fGBRYJKb31",
        "outputId": "0758e62c-2a50-41da-924e-66181631df10"
      },
      "outputs": [
        {
          "data": {
            "text/plain": [
              "False"
            ]
          },
          "execution_count": 69,
          "metadata": {},
          "output_type": "execute_result"
        }
      ],
      "source": [
        "A=np.random.randint(0,10,10)\n",
        "C=np.random.randint(0,10,10)\n",
        "#np.allclose(A,C)\n",
        "np.array_equal(a1=A,a2=C)"
      ]
    },
    {
      "cell_type": "markdown",
      "metadata": {
        "id": "NXhPyoiZKb31"
      },
      "source": [
        "#### 43. Make an array immutable (read-only) (★★☆) \n",
        "(**hint**: flags.writeable)"
      ]
    },
    {
      "cell_type": "code",
      "execution_count": null,
      "metadata": {
        "colab": {
          "base_uri": "https://localhost:8080/",
          "height": 217
        },
        "id": "T8tAIu2LKb32",
        "outputId": "142f61ba-d584-4b98-f9e1-7bc3bc0fef89"
      },
      "outputs": [
        {
          "ename": "ValueError",
          "evalue": "ignored",
          "output_type": "error",
          "traceback": [
            "\u001b[0;31m---------------------------------------------------------------------------\u001b[0m",
            "\u001b[0;31mValueError\u001b[0m                                Traceback (most recent call last)",
            "\u001b[0;32m<ipython-input-73-475f2cfae899>\u001b[0m in \u001b[0;36m<module>\u001b[0;34m\u001b[0m\n\u001b[1;32m      1\u001b[0m \u001b[0mB\u001b[0m\u001b[0;34m=\u001b[0m\u001b[0mnp\u001b[0m\u001b[0;34m.\u001b[0m\u001b[0marray\u001b[0m\u001b[0;34m(\u001b[0m\u001b[0;34m[\u001b[0m\u001b[0;36m4\u001b[0m\u001b[0;34m,\u001b[0m\u001b[0;36m5\u001b[0m\u001b[0;34m,\u001b[0m\u001b[0;36m6\u001b[0m\u001b[0;34m,\u001b[0m\u001b[0;36m7\u001b[0m\u001b[0;34m]\u001b[0m\u001b[0;34m)\u001b[0m\u001b[0;34m\u001b[0m\u001b[0;34m\u001b[0m\u001b[0m\n\u001b[1;32m      2\u001b[0m \u001b[0mB\u001b[0m\u001b[0;34m.\u001b[0m\u001b[0mflags\u001b[0m\u001b[0;34m.\u001b[0m\u001b[0mwriteable\u001b[0m\u001b[0;34m=\u001b[0m\u001b[0;32mFalse\u001b[0m\u001b[0;34m\u001b[0m\u001b[0;34m\u001b[0m\u001b[0m\n\u001b[0;32m----> 3\u001b[0;31m \u001b[0mB\u001b[0m\u001b[0;34m[\u001b[0m\u001b[0;36m0\u001b[0m\u001b[0;34m]\u001b[0m\u001b[0;34m=\u001b[0m\u001b[0;36m0\u001b[0m\u001b[0;34m\u001b[0m\u001b[0;34m\u001b[0m\u001b[0m\n\u001b[0m\u001b[1;32m      4\u001b[0m \u001b[0mB\u001b[0m\u001b[0;34m\u001b[0m\u001b[0;34m\u001b[0m\u001b[0m\n",
            "\u001b[0;31mValueError\u001b[0m: assignment destination is read-only"
          ]
        }
      ],
      "source": [
        "B=np.array([4,5,6,7])\n",
        "B.flags.writeable=False\n",
        "B[0]=0\n",
        "B"
      ]
    },
    {
      "cell_type": "markdown",
      "metadata": {
        "id": "LPpsSzZHKb33"
      },
      "source": [
        "#### 44. Consider a random 10x2 matrix representing cartesian coordinates, convert them to polar coordinates (★★☆) \n",
        "(**hint**: np.sqrt, np.arctan2)"
      ]
    },
    {
      "cell_type": "code",
      "execution_count": null,
      "metadata": {
        "colab": {
          "base_uri": "https://localhost:8080/"
        },
        "id": "bYvSGUb-Kb34",
        "outputId": "9348b44b-dec3-497e-cf9d-2a5801441330"
      },
      "outputs": [
        {
          "name": "stdout",
          "output_type": "stream",
          "text": [
            "[18.97366596 16.64331698 18.60107524  7.81024968 20.61552813 24.8394847\n",
            " 13.03840481 15.8113883  10.04987562 15.26433752]\n",
            "[0.32175055 0.99945885 0.63274884 0.87605805 0.39852245 0.87090346\n",
            " 0.56672922 1.24904577 1.47112767 0.55165498]\n"
          ]
        }
      ],
      "source": [
        "Cc=np.random.randint(0,20,(10,2))\n",
        "x,y=Cc[:,0],Cc[:,1]\n",
        "r=np.sqrt(x**2+y**2)\n",
        "t=np.arctan2(x,y)\n",
        "print(r)\n",
        "print(t)"
      ]
    },
    {
      "cell_type": "markdown",
      "metadata": {
        "id": "7be3KcfwKb34"
      },
      "source": [
        "#### 45. Create random vector of size 10 and replace the maximum value by 0 (★★☆) \n",
        "(**hint**: argmax)"
      ]
    },
    {
      "cell_type": "code",
      "execution_count": null,
      "metadata": {
        "colab": {
          "base_uri": "https://localhost:8080/"
        },
        "id": "dDZn9XTN2BRQ",
        "outputId": "4b9bf492-4e8f-4490-d914-c887a4dd0b05"
      },
      "outputs": [
        {
          "data": {
            "text/plain": [
              "array([18, 76, 10, 64,  0, 74, 40, 50, 71, 61])"
            ]
          },
          "execution_count": 79,
          "metadata": {},
          "output_type": "execute_result"
        }
      ],
      "source": [
        "randvect=np.random.randint(0,100,10)\n",
        "randvect[randvect.argmax()]=0\n",
        "randvect"
      ]
    },
    {
      "cell_type": "code",
      "execution_count": null,
      "metadata": {
        "id": "BJb2nThkKb35"
      },
      "outputs": [],
      "source": []
    },
    {
      "cell_type": "markdown",
      "metadata": {
        "id": "GH4rBu68Kb36"
      },
      "source": [
        "#### 46. Create a structured array with `x` and `y` coordinates covering the \\[0,1\\]x\\[0,1\\] area (★★☆) \n",
        "(**hint**: np.meshgrid)"
      ]
    },
    {
      "cell_type": "code",
      "execution_count": null,
      "metadata": {
        "colab": {
          "base_uri": "https://localhost:8080/"
        },
        "id": "reoaXG2XKb36",
        "outputId": "93791858-9930-4a0d-c1a8-4e5d1f77f7a2"
      },
      "outputs": [
        {
          "name": "stdout",
          "output_type": "stream",
          "text": [
            "[[(0.  , 0.  ) (0.25, 0.  ) (0.5 , 0.  ) (0.75, 0.  ) (1.  , 0.  )]\n",
            " [(0.  , 0.25) (0.25, 0.25) (0.5 , 0.25) (0.75, 0.25) (1.  , 0.25)]\n",
            " [(0.  , 0.5 ) (0.25, 0.5 ) (0.5 , 0.5 ) (0.75, 0.5 ) (1.  , 0.5 )]\n",
            " [(0.  , 0.75) (0.25, 0.75) (0.5 , 0.75) (0.75, 0.75) (1.  , 0.75)]\n",
            " [(0.  , 1.  ) (0.25, 1.  ) (0.5 , 1.  ) (0.75, 1.  ) (1.  , 1.  )]]\n"
          ]
        }
      ],
      "source": [
        "arrays=np.ones((5,5),[('x',float),('y',float)])\n",
        "arrays['x'],arrays['y']=np.meshgrid(np.linspace(0,1,5),np.linspace(0,1,5))\n",
        "print(arrays)"
      ]
    },
    {
      "cell_type": "markdown",
      "metadata": {
        "id": "ppCitR66Kb37"
      },
      "source": [
        "####  47. Given two arrays, X and Y, construct the Cauchy matrix C (Cij =1/(xi - yj)) \n",
        "(**hint**: np.subtract.outer)"
      ]
    },
    {
      "cell_type": "code",
      "execution_count": null,
      "metadata": {
        "colab": {
          "base_uri": "https://localhost:8080/"
        },
        "id": "UzaOlCjsKb38",
        "outputId": "8e4434a2-d13a-4ed3-8acd-75d4593c30f0"
      },
      "outputs": [
        {
          "name": "stdout",
          "output_type": "stream",
          "text": [
            "41846.73328656058\n"
          ]
        }
      ],
      "source": [
        "X=np.arange(8)\n",
        "Y=X+0.8\n",
        "CauchyMatrix=1/np.subtract.outer(X,Y)\n",
        "print(np.linalg.det(CauchyMatrix))"
      ]
    },
    {
      "cell_type": "markdown",
      "metadata": {
        "id": "kgwlJgpDKb38"
      },
      "source": [
        "#### 48. Print the minimum and maximum representable value for each numpy scalar type (★★☆) \n",
        "(**hint**: np.iinfo, np.finfo, eps)"
      ]
    },
    {
      "cell_type": "code",
      "execution_count": null,
      "metadata": {
        "colab": {
          "base_uri": "https://localhost:8080/"
        },
        "id": "tlK0S24pKb4I",
        "outputId": "f5b6b89f-7616-4fa3-a0a8-2d34c2b761d0"
      },
      "outputs": [
        {
          "name": "stdout",
          "output_type": "stream",
          "text": [
            "datatype : <class 'numpy.int8'>\n",
            "Minimum value: -128\n",
            "Maximum value: 127\n",
            "datatype : <class 'numpy.int32'>\n",
            "Minimum value: -2147483648\n",
            "Maximum value: 2147483647\n",
            "datatype : <class 'numpy.int64'>\n",
            "Minimum value: -9223372036854775808\n",
            "Maximum value: 9223372036854775807\n",
            "datatype : <class 'numpy.float32'>\n",
            "Minimum value: -3.4028235e+38\n",
            "Maximum value: 3.4028235e+38\n",
            "datatype : <class 'numpy.float64'>\n",
            "Minimum value: -1.7976931348623157e+308\n",
            "Maximum value: 1.7976931348623157e+308\n"
          ]
        }
      ],
      "source": [
        "for dtype in [np.int8, np.int32, np.int64]:\n",
        "   print('datatype :',dtype)\n",
        "   print(\"Minimum value:\",np.iinfo(dtype).min)\n",
        "   print(\"Maximum value:\",np.iinfo(dtype).max)\n",
        "for dtype in [np.float32, np.float64]:\n",
        "   print('datatype :',dtype)\n",
        "   print(\"Minimum value:\",np.finfo(dtype).min)\n",
        "   print(\"Maximum value:\",np.finfo(dtype).max)"
      ]
    },
    {
      "cell_type": "markdown",
      "metadata": {
        "id": "AZ21vBjBKb4I"
      },
      "source": [
        "#### 49. How to print all the values of an array? (★★☆) \n",
        "(**hint**: np.set\\_printoptions)"
      ]
    },
    {
      "cell_type": "code",
      "execution_count": null,
      "metadata": {
        "colab": {
          "base_uri": "https://localhost:8080/"
        },
        "id": "tQWmK7gxKb4J",
        "outputId": "d9b979c7-08a7-49f0-defa-52fd3267b3b7"
      },
      "outputs": [
        {
          "name": "stdout",
          "output_type": "stream",
          "text": [
            "[[0. 0. 0. 0. 0. 0. 0. 0. 0. 0. 0. 0. 0. 0. 0. 0.]\n",
            " [0. 0. 0. 0. 0. 0. 0. 0. 0. 0. 0. 0. 0. 0. 0. 0.]\n",
            " [0. 0. 0. 0. 0. 0. 0. 0. 0. 0. 0. 0. 0. 0. 0. 0.]\n",
            " [0. 0. 0. 0. 0. 0. 0. 0. 0. 0. 0. 0. 0. 0. 0. 0.]\n",
            " [0. 0. 0. 0. 0. 0. 0. 0. 0. 0. 0. 0. 0. 0. 0. 0.]\n",
            " [0. 0. 0. 0. 0. 0. 0. 0. 0. 0. 0. 0. 0. 0. 0. 0.]\n",
            " [0. 0. 0. 0. 0. 0. 0. 0. 0. 0. 0. 0. 0. 0. 0. 0.]\n",
            " [0. 0. 0. 0. 0. 0. 0. 0. 0. 0. 0. 0. 0. 0. 0. 0.]\n",
            " [0. 0. 0. 0. 0. 0. 0. 0. 0. 0. 0. 0. 0. 0. 0. 0.]\n",
            " [0. 0. 0. 0. 0. 0. 0. 0. 0. 0. 0. 0. 0. 0. 0. 0.]\n",
            " [0. 0. 0. 0. 0. 0. 0. 0. 0. 0. 0. 0. 0. 0. 0. 0.]\n",
            " [0. 0. 0. 0. 0. 0. 0. 0. 0. 0. 0. 0. 0. 0. 0. 0.]\n",
            " [0. 0. 0. 0. 0. 0. 0. 0. 0. 0. 0. 0. 0. 0. 0. 0.]\n",
            " [0. 0. 0. 0. 0. 0. 0. 0. 0. 0. 0. 0. 0. 0. 0. 0.]\n",
            " [0. 0. 0. 0. 0. 0. 0. 0. 0. 0. 0. 0. 0. 0. 0. 0.]\n",
            " [0. 0. 0. 0. 0. 0. 0. 0. 0. 0. 0. 0. 0. 0. 0. 0.]\n",
            " [0. 0. 0. 0. 0. 0. 0. 0. 0. 0. 0. 0. 0. 0. 0. 0.]\n",
            " [0. 0. 0. 0. 0. 0. 0. 0. 0. 0. 0. 0. 0. 0. 0. 0.]\n",
            " [0. 0. 0. 0. 0. 0. 0. 0. 0. 0. 0. 0. 0. 0. 0. 0.]\n",
            " [0. 0. 0. 0. 0. 0. 0. 0. 0. 0. 0. 0. 0. 0. 0. 0.]\n",
            " [0. 0. 0. 0. 0. 0. 0. 0. 0. 0. 0. 0. 0. 0. 0. 0.]\n",
            " [0. 0. 0. 0. 0. 0. 0. 0. 0. 0. 0. 0. 0. 0. 0. 0.]\n",
            " [0. 0. 0. 0. 0. 0. 0. 0. 0. 0. 0. 0. 0. 0. 0. 0.]\n",
            " [0. 0. 0. 0. 0. 0. 0. 0. 0. 0. 0. 0. 0. 0. 0. 0.]\n",
            " [0. 0. 0. 0. 0. 0. 0. 0. 0. 0. 0. 0. 0. 0. 0. 0.]\n",
            " [0. 0. 0. 0. 0. 0. 0. 0. 0. 0. 0. 0. 0. 0. 0. 0.]\n",
            " [0. 0. 0. 0. 0. 0. 0. 0. 0. 0. 0. 0. 0. 0. 0. 0.]\n",
            " [0. 0. 0. 0. 0. 0. 0. 0. 0. 0. 0. 0. 0. 0. 0. 0.]\n",
            " [0. 0. 0. 0. 0. 0. 0. 0. 0. 0. 0. 0. 0. 0. 0. 0.]\n",
            " [0. 0. 0. 0. 0. 0. 0. 0. 0. 0. 0. 0. 0. 0. 0. 0.]\n",
            " [0. 0. 0. 0. 0. 0. 0. 0. 0. 0. 0. 0. 0. 0. 0. 0.]\n",
            " [0. 0. 0. 0. 0. 0. 0. 0. 0. 0. 0. 0. 0. 0. 0. 0.]\n",
            " [0. 0. 0. 0. 0. 0. 0. 0. 0. 0. 0. 0. 0. 0. 0. 0.]\n",
            " [0. 0. 0. 0. 0. 0. 0. 0. 0. 0. 0. 0. 0. 0. 0. 0.]\n",
            " [0. 0. 0. 0. 0. 0. 0. 0. 0. 0. 0. 0. 0. 0. 0. 0.]\n",
            " [0. 0. 0. 0. 0. 0. 0. 0. 0. 0. 0. 0. 0. 0. 0. 0.]\n",
            " [0. 0. 0. 0. 0. 0. 0. 0. 0. 0. 0. 0. 0. 0. 0. 0.]\n",
            " [0. 0. 0. 0. 0. 0. 0. 0. 0. 0. 0. 0. 0. 0. 0. 0.]\n",
            " [0. 0. 0. 0. 0. 0. 0. 0. 0. 0. 0. 0. 0. 0. 0. 0.]\n",
            " [0. 0. 0. 0. 0. 0. 0. 0. 0. 0. 0. 0. 0. 0. 0. 0.]\n",
            " [0. 0. 0. 0. 0. 0. 0. 0. 0. 0. 0. 0. 0. 0. 0. 0.]\n",
            " [0. 0. 0. 0. 0. 0. 0. 0. 0. 0. 0. 0. 0. 0. 0. 0.]\n",
            " [0. 0. 0. 0. 0. 0. 0. 0. 0. 0. 0. 0. 0. 0. 0. 0.]\n",
            " [0. 0. 0. 0. 0. 0. 0. 0. 0. 0. 0. 0. 0. 0. 0. 0.]\n",
            " [0. 0. 0. 0. 0. 0. 0. 0. 0. 0. 0. 0. 0. 0. 0. 0.]\n",
            " [0. 0. 0. 0. 0. 0. 0. 0. 0. 0. 0. 0. 0. 0. 0. 0.]\n",
            " [0. 0. 0. 0. 0. 0. 0. 0. 0. 0. 0. 0. 0. 0. 0. 0.]\n",
            " [0. 0. 0. 0. 0. 0. 0. 0. 0. 0. 0. 0. 0. 0. 0. 0.]\n",
            " [0. 0. 0. 0. 0. 0. 0. 0. 0. 0. 0. 0. 0. 0. 0. 0.]\n",
            " [0. 0. 0. 0. 0. 0. 0. 0. 0. 0. 0. 0. 0. 0. 0. 0.]\n",
            " [0. 0. 0. 0. 0. 0. 0. 0. 0. 0. 0. 0. 0. 0. 0. 0.]\n",
            " [0. 0. 0. 0. 0. 0. 0. 0. 0. 0. 0. 0. 0. 0. 0. 0.]\n",
            " [0. 0. 0. 0. 0. 0. 0. 0. 0. 0. 0. 0. 0. 0. 0. 0.]\n",
            " [0. 0. 0. 0. 0. 0. 0. 0. 0. 0. 0. 0. 0. 0. 0. 0.]\n",
            " [0. 0. 0. 0. 0. 0. 0. 0. 0. 0. 0. 0. 0. 0. 0. 0.]\n",
            " [0. 0. 0. 0. 0. 0. 0. 0. 0. 0. 0. 0. 0. 0. 0. 0.]\n",
            " [0. 0. 0. 0. 0. 0. 0. 0. 0. 0. 0. 0. 0. 0. 0. 0.]\n",
            " [0. 0. 0. 0. 0. 0. 0. 0. 0. 0. 0. 0. 0. 0. 0. 0.]\n",
            " [0. 0. 0. 0. 0. 0. 0. 0. 0. 0. 0. 0. 0. 0. 0. 0.]\n",
            " [0. 0. 0. 0. 0. 0. 0. 0. 0. 0. 0. 0. 0. 0. 0. 0.]\n",
            " [0. 0. 0. 0. 0. 0. 0. 0. 0. 0. 0. 0. 0. 0. 0. 0.]\n",
            " [0. 0. 0. 0. 0. 0. 0. 0. 0. 0. 0. 0. 0. 0. 0. 0.]\n",
            " [0. 0. 0. 0. 0. 0. 0. 0. 0. 0. 0. 0. 0. 0. 0. 0.]\n",
            " [0. 0. 0. 0. 0. 0. 0. 0. 0. 0. 0. 0. 0. 0. 0. 0.]\n",
            " [0. 0. 0. 0. 0. 0. 0. 0. 0. 0. 0. 0. 0. 0. 0. 0.]\n",
            " [0. 0. 0. 0. 0. 0. 0. 0. 0. 0. 0. 0. 0. 0. 0. 0.]\n",
            " [0. 0. 0. 0. 0. 0. 0. 0. 0. 0. 0. 0. 0. 0. 0. 0.]\n",
            " [0. 0. 0. 0. 0. 0. 0. 0. 0. 0. 0. 0. 0. 0. 0. 0.]\n",
            " [0. 0. 0. 0. 0. 0. 0. 0. 0. 0. 0. 0. 0. 0. 0. 0.]\n",
            " [0. 0. 0. 0. 0. 0. 0. 0. 0. 0. 0. 0. 0. 0. 0. 0.]\n",
            " [0. 0. 0. 0. 0. 0. 0. 0. 0. 0. 0. 0. 0. 0. 0. 0.]\n",
            " [0. 0. 0. 0. 0. 0. 0. 0. 0. 0. 0. 0. 0. 0. 0. 0.]\n",
            " [0. 0. 0. 0. 0. 0. 0. 0. 0. 0. 0. 0. 0. 0. 0. 0.]\n",
            " [0. 0. 0. 0. 0. 0. 0. 0. 0. 0. 0. 0. 0. 0. 0. 0.]\n",
            " [0. 0. 0. 0. 0. 0. 0. 0. 0. 0. 0. 0. 0. 0. 0. 0.]\n",
            " [0. 0. 0. 0. 0. 0. 0. 0. 0. 0. 0. 0. 0. 0. 0. 0.]\n",
            " [0. 0. 0. 0. 0. 0. 0. 0. 0. 0. 0. 0. 0. 0. 0. 0.]\n",
            " [0. 0. 0. 0. 0. 0. 0. 0. 0. 0. 0. 0. 0. 0. 0. 0.]\n",
            " [0. 0. 0. 0. 0. 0. 0. 0. 0. 0. 0. 0. 0. 0. 0. 0.]\n",
            " [0. 0. 0. 0. 0. 0. 0. 0. 0. 0. 0. 0. 0. 0. 0. 0.]\n",
            " [0. 0. 0. 0. 0. 0. 0. 0. 0. 0. 0. 0. 0. 0. 0. 0.]\n",
            " [0. 0. 0. 0. 0. 0. 0. 0. 0. 0. 0. 0. 0. 0. 0. 0.]\n",
            " [0. 0. 0. 0. 0. 0. 0. 0. 0. 0. 0. 0. 0. 0. 0. 0.]\n",
            " [0. 0. 0. 0. 0. 0. 0. 0. 0. 0. 0. 0. 0. 0. 0. 0.]\n",
            " [0. 0. 0. 0. 0. 0. 0. 0. 0. 0. 0. 0. 0. 0. 0. 0.]\n",
            " [0. 0. 0. 0. 0. 0. 0. 0. 0. 0. 0. 0. 0. 0. 0. 0.]\n",
            " [0. 0. 0. 0. 0. 0. 0. 0. 0. 0. 0. 0. 0. 0. 0. 0.]\n",
            " [0. 0. 0. 0. 0. 0. 0. 0. 0. 0. 0. 0. 0. 0. 0. 0.]\n",
            " [0. 0. 0. 0. 0. 0. 0. 0. 0. 0. 0. 0. 0. 0. 0. 0.]\n",
            " [0. 0. 0. 0. 0. 0. 0. 0. 0. 0. 0. 0. 0. 0. 0. 0.]\n",
            " [0. 0. 0. 0. 0. 0. 0. 0. 0. 0. 0. 0. 0. 0. 0. 0.]\n",
            " [0. 0. 0. 0. 0. 0. 0. 0. 0. 0. 0. 0. 0. 0. 0. 0.]\n",
            " [0. 0. 0. 0. 0. 0. 0. 0. 0. 0. 0. 0. 0. 0. 0. 0.]\n",
            " [0. 0. 0. 0. 0. 0. 0. 0. 0. 0. 0. 0. 0. 0. 0. 0.]\n",
            " [0. 0. 0. 0. 0. 0. 0. 0. 0. 0. 0. 0. 0. 0. 0. 0.]\n",
            " [0. 0. 0. 0. 0. 0. 0. 0. 0. 0. 0. 0. 0. 0. 0. 0.]\n",
            " [0. 0. 0. 0. 0. 0. 0. 0. 0. 0. 0. 0. 0. 0. 0. 0.]\n",
            " [0. 0. 0. 0. 0. 0. 0. 0. 0. 0. 0. 0. 0. 0. 0. 0.]\n",
            " [0. 0. 0. 0. 0. 0. 0. 0. 0. 0. 0. 0. 0. 0. 0. 0.]\n",
            " [0. 0. 0. 0. 0. 0. 0. 0. 0. 0. 0. 0. 0. 0. 0. 0.]\n",
            " [0. 0. 0. 0. 0. 0. 0. 0. 0. 0. 0. 0. 0. 0. 0. 0.]\n",
            " [0. 0. 0. 0. 0. 0. 0. 0. 0. 0. 0. 0. 0. 0. 0. 0.]\n",
            " [0. 0. 0. 0. 0. 0. 0. 0. 0. 0. 0. 0. 0. 0. 0. 0.]\n",
            " [0. 0. 0. 0. 0. 0. 0. 0. 0. 0. 0. 0. 0. 0. 0. 0.]\n",
            " [0. 0. 0. 0. 0. 0. 0. 0. 0. 0. 0. 0. 0. 0. 0. 0.]\n",
            " [0. 0. 0. 0. 0. 0. 0. 0. 0. 0. 0. 0. 0. 0. 0. 0.]\n",
            " [0. 0. 0. 0. 0. 0. 0. 0. 0. 0. 0. 0. 0. 0. 0. 0.]\n",
            " [0. 0. 0. 0. 0. 0. 0. 0. 0. 0. 0. 0. 0. 0. 0. 0.]\n",
            " [0. 0. 0. 0. 0. 0. 0. 0. 0. 0. 0. 0. 0. 0. 0. 0.]\n",
            " [0. 0. 0. 0. 0. 0. 0. 0. 0. 0. 0. 0. 0. 0. 0. 0.]\n",
            " [0. 0. 0. 0. 0. 0. 0. 0. 0. 0. 0. 0. 0. 0. 0. 0.]\n",
            " [0. 0. 0. 0. 0. 0. 0. 0. 0. 0. 0. 0. 0. 0. 0. 0.]\n",
            " [0. 0. 0. 0. 0. 0. 0. 0. 0. 0. 0. 0. 0. 0. 0. 0.]\n",
            " [0. 0. 0. 0. 0. 0. 0. 0. 0. 0. 0. 0. 0. 0. 0. 0.]\n",
            " [0. 0. 0. 0. 0. 0. 0. 0. 0. 0. 0. 0. 0. 0. 0. 0.]\n",
            " [0. 0. 0. 0. 0. 0. 0. 0. 0. 0. 0. 0. 0. 0. 0. 0.]\n",
            " [0. 0. 0. 0. 0. 0. 0. 0. 0. 0. 0. 0. 0. 0. 0. 0.]\n",
            " [0. 0. 0. 0. 0. 0. 0. 0. 0. 0. 0. 0. 0. 0. 0. 0.]\n",
            " [0. 0. 0. 0. 0. 0. 0. 0. 0. 0. 0. 0. 0. 0. 0. 0.]\n",
            " [0. 0. 0. 0. 0. 0. 0. 0. 0. 0. 0. 0. 0. 0. 0. 0.]\n",
            " [0. 0. 0. 0. 0. 0. 0. 0. 0. 0. 0. 0. 0. 0. 0. 0.]\n",
            " [0. 0. 0. 0. 0. 0. 0. 0. 0. 0. 0. 0. 0. 0. 0. 0.]\n",
            " [0. 0. 0. 0. 0. 0. 0. 0. 0. 0. 0. 0. 0. 0. 0. 0.]\n",
            " [0. 0. 0. 0. 0. 0. 0. 0. 0. 0. 0. 0. 0. 0. 0. 0.]\n",
            " [0. 0. 0. 0. 0. 0. 0. 0. 0. 0. 0. 0. 0. 0. 0. 0.]\n",
            " [0. 0. 0. 0. 0. 0. 0. 0. 0. 0. 0. 0. 0. 0. 0. 0.]\n",
            " [0. 0. 0. 0. 0. 0. 0. 0. 0. 0. 0. 0. 0. 0. 0. 0.]\n",
            " [0. 0. 0. 0. 0. 0. 0. 0. 0. 0. 0. 0. 0. 0. 0. 0.]\n",
            " [0. 0. 0. 0. 0. 0. 0. 0. 0. 0. 0. 0. 0. 0. 0. 0.]\n",
            " [0. 0. 0. 0. 0. 0. 0. 0. 0. 0. 0. 0. 0. 0. 0. 0.]\n",
            " [0. 0. 0. 0. 0. 0. 0. 0. 0. 0. 0. 0. 0. 0. 0. 0.]\n",
            " [0. 0. 0. 0. 0. 0. 0. 0. 0. 0. 0. 0. 0. 0. 0. 0.]\n",
            " [0. 0. 0. 0. 0. 0. 0. 0. 0. 0. 0. 0. 0. 0. 0. 0.]\n",
            " [0. 0. 0. 0. 0. 0. 0. 0. 0. 0. 0. 0. 0. 0. 0. 0.]\n",
            " [0. 0. 0. 0. 0. 0. 0. 0. 0. 0. 0. 0. 0. 0. 0. 0.]\n",
            " [0. 0. 0. 0. 0. 0. 0. 0. 0. 0. 0. 0. 0. 0. 0. 0.]\n",
            " [0. 0. 0. 0. 0. 0. 0. 0. 0. 0. 0. 0. 0. 0. 0. 0.]\n",
            " [0. 0. 0. 0. 0. 0. 0. 0. 0. 0. 0. 0. 0. 0. 0. 0.]\n",
            " [0. 0. 0. 0. 0. 0. 0. 0. 0. 0. 0. 0. 0. 0. 0. 0.]\n",
            " [0. 0. 0. 0. 0. 0. 0. 0. 0. 0. 0. 0. 0. 0. 0. 0.]\n",
            " [0. 0. 0. 0. 0. 0. 0. 0. 0. 0. 0. 0. 0. 0. 0. 0.]\n",
            " [0. 0. 0. 0. 0. 0. 0. 0. 0. 0. 0. 0. 0. 0. 0. 0.]\n",
            " [0. 0. 0. 0. 0. 0. 0. 0. 0. 0. 0. 0. 0. 0. 0. 0.]\n",
            " [0. 0. 0. 0. 0. 0. 0. 0. 0. 0. 0. 0. 0. 0. 0. 0.]\n",
            " [0. 0. 0. 0. 0. 0. 0. 0. 0. 0. 0. 0. 0. 0. 0. 0.]\n",
            " [0. 0. 0. 0. 0. 0. 0. 0. 0. 0. 0. 0. 0. 0. 0. 0.]\n",
            " [0. 0. 0. 0. 0. 0. 0. 0. 0. 0. 0. 0. 0. 0. 0. 0.]\n",
            " [0. 0. 0. 0. 0. 0. 0. 0. 0. 0. 0. 0. 0. 0. 0. 0.]\n",
            " [0. 0. 0. 0. 0. 0. 0. 0. 0. 0. 0. 0. 0. 0. 0. 0.]\n",
            " [0. 0. 0. 0. 0. 0. 0. 0. 0. 0. 0. 0. 0. 0. 0. 0.]\n",
            " [0. 0. 0. 0. 0. 0. 0. 0. 0. 0. 0. 0. 0. 0. 0. 0.]\n",
            " [0. 0. 0. 0. 0. 0. 0. 0. 0. 0. 0. 0. 0. 0. 0. 0.]\n",
            " [0. 0. 0. 0. 0. 0. 0. 0. 0. 0. 0. 0. 0. 0. 0. 0.]\n",
            " [0. 0. 0. 0. 0. 0. 0. 0. 0. 0. 0. 0. 0. 0. 0. 0.]\n",
            " [0. 0. 0. 0. 0. 0. 0. 0. 0. 0. 0. 0. 0. 0. 0. 0.]\n",
            " [0. 0. 0. 0. 0. 0. 0. 0. 0. 0. 0. 0. 0. 0. 0. 0.]\n",
            " [0. 0. 0. 0. 0. 0. 0. 0. 0. 0. 0. 0. 0. 0. 0. 0.]\n",
            " [0. 0. 0. 0. 0. 0. 0. 0. 0. 0. 0. 0. 0. 0. 0. 0.]\n",
            " [0. 0. 0. 0. 0. 0. 0. 0. 0. 0. 0. 0. 0. 0. 0. 0.]\n",
            " [0. 0. 0. 0. 0. 0. 0. 0. 0. 0. 0. 0. 0. 0. 0. 0.]\n",
            " [0. 0. 0. 0. 0. 0. 0. 0. 0. 0. 0. 0. 0. 0. 0. 0.]\n",
            " [0. 0. 0. 0. 0. 0. 0. 0. 0. 0. 0. 0. 0. 0. 0. 0.]\n",
            " [0. 0. 0. 0. 0. 0. 0. 0. 0. 0. 0. 0. 0. 0. 0. 0.]\n",
            " [0. 0. 0. 0. 0. 0. 0. 0. 0. 0. 0. 0. 0. 0. 0. 0.]\n",
            " [0. 0. 0. 0. 0. 0. 0. 0. 0. 0. 0. 0. 0. 0. 0. 0.]\n",
            " [0. 0. 0. 0. 0. 0. 0. 0. 0. 0. 0. 0. 0. 0. 0. 0.]\n",
            " [0. 0. 0. 0. 0. 0. 0. 0. 0. 0. 0. 0. 0. 0. 0. 0.]\n",
            " [0. 0. 0. 0. 0. 0. 0. 0. 0. 0. 0. 0. 0. 0. 0. 0.]\n",
            " [0. 0. 0. 0. 0. 0. 0. 0. 0. 0. 0. 0. 0. 0. 0. 0.]\n",
            " [0. 0. 0. 0. 0. 0. 0. 0. 0. 0. 0. 0. 0. 0. 0. 0.]\n",
            " [0. 0. 0. 0. 0. 0. 0. 0. 0. 0. 0. 0. 0. 0. 0. 0.]\n",
            " [0. 0. 0. 0. 0. 0. 0. 0. 0. 0. 0. 0. 0. 0. 0. 0.]\n",
            " [0. 0. 0. 0. 0. 0. 0. 0. 0. 0. 0. 0. 0. 0. 0. 0.]\n",
            " [0. 0. 0. 0. 0. 0. 0. 0. 0. 0. 0. 0. 0. 0. 0. 0.]\n",
            " [0. 0. 0. 0. 0. 0. 0. 0. 0. 0. 0. 0. 0. 0. 0. 0.]\n",
            " [0. 0. 0. 0. 0. 0. 0. 0. 0. 0. 0. 0. 0. 0. 0. 0.]\n",
            " [0. 0. 0. 0. 0. 0. 0. 0. 0. 0. 0. 0. 0. 0. 0. 0.]\n",
            " [0. 0. 0. 0. 0. 0. 0. 0. 0. 0. 0. 0. 0. 0. 0. 0.]\n",
            " [0. 0. 0. 0. 0. 0. 0. 0. 0. 0. 0. 0. 0. 0. 0. 0.]\n",
            " [0. 0. 0. 0. 0. 0. 0. 0. 0. 0. 0. 0. 0. 0. 0. 0.]\n",
            " [0. 0. 0. 0. 0. 0. 0. 0. 0. 0. 0. 0. 0. 0. 0. 0.]\n",
            " [0. 0. 0. 0. 0. 0. 0. 0. 0. 0. 0. 0. 0. 0. 0. 0.]\n",
            " [0. 0. 0. 0. 0. 0. 0. 0. 0. 0. 0. 0. 0. 0. 0. 0.]\n",
            " [0. 0. 0. 0. 0. 0. 0. 0. 0. 0. 0. 0. 0. 0. 0. 0.]\n",
            " [0. 0. 0. 0. 0. 0. 0. 0. 0. 0. 0. 0. 0. 0. 0. 0.]\n",
            " [0. 0. 0. 0. 0. 0. 0. 0. 0. 0. 0. 0. 0. 0. 0. 0.]\n",
            " [0. 0. 0. 0. 0. 0. 0. 0. 0. 0. 0. 0. 0. 0. 0. 0.]\n",
            " [0. 0. 0. 0. 0. 0. 0. 0. 0. 0. 0. 0. 0. 0. 0. 0.]\n",
            " [0. 0. 0. 0. 0. 0. 0. 0. 0. 0. 0. 0. 0. 0. 0. 0.]\n",
            " [0. 0. 0. 0. 0. 0. 0. 0. 0. 0. 0. 0. 0. 0. 0. 0.]\n",
            " [0. 0. 0. 0. 0. 0. 0. 0. 0. 0. 0. 0. 0. 0. 0. 0.]\n",
            " [0. 0. 0. 0. 0. 0. 0. 0. 0. 0. 0. 0. 0. 0. 0. 0.]\n",
            " [0. 0. 0. 0. 0. 0. 0. 0. 0. 0. 0. 0. 0. 0. 0. 0.]\n",
            " [0. 0. 0. 0. 0. 0. 0. 0. 0. 0. 0. 0. 0. 0. 0. 0.]\n",
            " [0. 0. 0. 0. 0. 0. 0. 0. 0. 0. 0. 0. 0. 0. 0. 0.]\n",
            " [0. 0. 0. 0. 0. 0. 0. 0. 0. 0. 0. 0. 0. 0. 0. 0.]\n",
            " [0. 0. 0. 0. 0. 0. 0. 0. 0. 0. 0. 0. 0. 0. 0. 0.]\n",
            " [0. 0. 0. 0. 0. 0. 0. 0. 0. 0. 0. 0. 0. 0. 0. 0.]\n",
            " [0. 0. 0. 0. 0. 0. 0. 0. 0. 0. 0. 0. 0. 0. 0. 0.]\n",
            " [0. 0. 0. 0. 0. 0. 0. 0. 0. 0. 0. 0. 0. 0. 0. 0.]]\n"
          ]
        }
      ],
      "source": [
        "import sys\n",
        "np.set_printoptions(threshold=sys.maxsize)\n",
        "Z = np.zeros((200,16))\n",
        "print(Z)"
      ]
    },
    {
      "cell_type": "markdown",
      "metadata": {
        "id": "XUivUS1vKb4K"
      },
      "source": [
        "#### 50. How to find the closest value (to a given scalar) in a vector? (★★☆) \n",
        "(**hint**: argmin)"
      ]
    },
    {
      "cell_type": "code",
      "execution_count": null,
      "metadata": {
        "colab": {
          "base_uri": "https://localhost:8080/"
        },
        "id": "hh4T88JBKb4K",
        "outputId": "1cc94eb5-fa05-4063-80a0-c2636ac11a29"
      },
      "outputs": [
        {
          "name": "stdout",
          "output_type": "stream",
          "text": [
            "[45 48 65 68 68 10 84 22 37 88]\n"
          ]
        },
        {
          "data": {
            "text/plain": [
              "10"
            ]
          },
          "execution_count": 90,
          "metadata": {},
          "output_type": "execute_result"
        }
      ],
      "source": [
        "np.random.seed(0)\n",
        "vect4=np.random.randint(1,90,10)\n",
        "print(vect4)\n",
        "vect4[vect4.argmin()]"
      ]
    },
    {
      "cell_type": "markdown",
      "metadata": {
        "id": "EeRXJKglKb4L"
      },
      "source": [
        "#### 51. Create a structured array representing a position (x,y) and a color (r,g,b) (★★☆) \n",
        "(**hint**: dtype)"
      ]
    },
    {
      "cell_type": "code",
      "execution_count": null,
      "metadata": {
        "id": "K8GkwSf4Kb4M"
      },
      "outputs": [],
      "source": []
    },
    {
      "cell_type": "markdown",
      "metadata": {
        "id": "FCHQL1Z4Kb4M"
      },
      "source": [
        "#### 52. Consider a random vector with shape (100,2) representing coordinates, find point by point distances (★★☆) \n",
        "(**hint**: np.atleast\\_2d, T, np.sqrt)"
      ]
    },
    {
      "cell_type": "code",
      "execution_count": null,
      "metadata": {
        "id": "Pi_oAxYhKb4N"
      },
      "outputs": [],
      "source": []
    },
    {
      "cell_type": "markdown",
      "metadata": {
        "id": "IiKKhur9Kb4O"
      },
      "source": [
        "#### 53. How to convert a float (32 bits) array into an integer (32 bits) in place? \n",
        "(**hint**: astype(copy=False))"
      ]
    },
    {
      "cell_type": "code",
      "execution_count": null,
      "metadata": {
        "colab": {
          "base_uri": "https://localhost:8080/"
        },
        "id": "sLK_YLukKb4P",
        "outputId": "00bfb952-aa0e-4565-a78a-c1a7a7b79fa5"
      },
      "outputs": [
        {
          "data": {
            "text/plain": [
              "array([3, 4, 7], dtype=int32)"
            ]
          },
          "execution_count": 98,
          "metadata": {},
          "output_type": "execute_result"
        }
      ],
      "source": [
        "X=np.array([3.5,4.6,7.8],dtype=np.float32)\n",
        "X=X.astype(np.int32)\n",
        "X"
      ]
    },
    {
      "cell_type": "markdown",
      "metadata": {
        "id": "_lnGTUDnKb4Q"
      },
      "source": [
        "#### 54. How to read the following file? (★★☆) \n",
        "(**hint**: np.genfromtxt)"
      ]
    },
    {
      "cell_type": "markdown",
      "metadata": {
        "id": "8QydJWLeKb4R"
      },
      "source": [
        "```\n",
        "1, 2, 3, 4, 5\n",
        "6,  ,  , 7, 8\n",
        " ,  , 9,10,11\n",
        "```"
      ]
    },
    {
      "cell_type": "code",
      "execution_count": null,
      "metadata": {
        "colab": {
          "base_uri": "https://localhost:8080/"
        },
        "id": "lce5-U72Kb4S",
        "outputId": "9672c179-02e7-4917-e50f-240f42cd8468"
      },
      "outputs": [
        {
          "data": {
            "text/plain": [
              "array([[ 1,  2,  3,  4,  5],\n",
              "       [ 6, -1, -1,  7,  8],\n",
              "       [-1, -1,  9, 10, 11]])"
            ]
          },
          "execution_count": 48,
          "metadata": {},
          "output_type": "execute_result"
        }
      ],
      "source": [
        "from os import replace\n",
        "from io import StringIO\n",
        "x=StringIO(\"\"\"1, 2, 3, 4, 5\\n\n",
        "6,  ,  , 7, 8\\n\n",
        " ,  , 9,10,11\\n\"\"\")\n",
        "arr40=np.genfromtxt(x,delimiter=\",\",dtype='int64')\n",
        "arr40"
      ]
    },
    {
      "cell_type": "markdown",
      "metadata": {
        "id": "Uw7QMYGkKb4T"
      },
      "source": [
        "#### 55. What is the equivalent of enumerate for numpy arrays? (★★☆) \n",
        "(**hint**: np.ndenumerate, np.ndindex)"
      ]
    },
    {
      "cell_type": "code",
      "execution_count": null,
      "metadata": {
        "colab": {
          "base_uri": "https://localhost:8080/"
        },
        "id": "kqQ3DWrOKb4U",
        "outputId": "9ff0dcb6-5f76-4bea-c48a-a073d9eafb08"
      },
      "outputs": [
        {
          "name": "stdout",
          "output_type": "stream",
          "text": [
            "(0, 0) 0\n",
            "(0, 1) 1\n",
            "(1, 0) 2\n",
            "(1, 1) 3\n",
            "(2, 0) 4\n",
            "(2, 1) 5\n",
            "(3, 0) 6\n",
            "(3, 1) 7\n",
            "(4, 0) 8\n",
            "(4, 1) 9\n"
          ]
        }
      ],
      "source": [
        "Z2=np.arange(10).reshape(5,2)\n",
        "for index,value in np.ndenumerate(Z2):\n",
        "  print(index,value)"
      ]
    },
    {
      "cell_type": "markdown",
      "metadata": {
        "id": "HVKmGMb4Kb4V"
      },
      "source": [
        "#### 56. Generate a generic 2D Gaussian-like array (★★☆) \n",
        "(**hint**: np.meshgrid, np.exp)"
      ]
    },
    {
      "cell_type": "code",
      "execution_count": null,
      "metadata": {
        "colab": {
          "background_save": true,
          "base_uri": "https://localhost:8080/"
        },
        "id": "2Q1dErWHKb4V",
        "outputId": "930ea241-daa9-4618-d94e-32c85f77c36a"
      },
      "outputs": [
        {
          "name": "stdout",
          "output_type": "stream",
          "text": [
            "[[0.01831564 0.0403616  0.07300087 0.10836802 0.13203459 0.13203459\n",
            "  0.10836802 0.07300087 0.0403616  0.01831564]\n",
            " [0.0403616  0.08894358 0.16086971 0.2388072  0.29096046 0.29096046\n",
            "  0.2388072  0.16086971 0.08894358 0.0403616 ]\n",
            " [0.07300087 0.16086971 0.29096046 0.43192377 0.52625189 0.52625189\n",
            "  0.43192377 0.29096046 0.16086971 0.07300087]\n",
            " [0.10836802 0.2388072  0.43192377 0.64118039 0.7812082  0.7812082\n",
            "  0.64118039 0.43192377 0.2388072  0.10836802]\n",
            " [0.13203459 0.29096046 0.52625189 0.7812082  0.95181678 0.95181678\n",
            "  0.7812082  0.52625189 0.29096046 0.13203459]\n",
            " [0.13203459 0.29096046 0.52625189 0.7812082  0.95181678 0.95181678\n",
            "  0.7812082  0.52625189 0.29096046 0.13203459]\n",
            " [0.10836802 0.2388072  0.43192377 0.64118039 0.7812082  0.7812082\n",
            "  0.64118039 0.43192377 0.2388072  0.10836802]\n",
            " [0.07300087 0.16086971 0.29096046 0.43192377 0.52625189 0.52625189\n",
            "  0.43192377 0.29096046 0.16086971 0.07300087]\n",
            " [0.0403616  0.08894358 0.16086971 0.2388072  0.29096046 0.29096046\n",
            "  0.2388072  0.16086971 0.08894358 0.0403616 ]\n",
            " [0.01831564 0.0403616  0.07300087 0.10836802 0.13203459 0.13203459\n",
            "  0.10836802 0.07300087 0.0403616  0.01831564]]\n"
          ]
        }
      ],
      "source": [
        "import numpy as np\n",
        "X,Y=np.meshgrid(np.linspace(-1,1,10),np.linspace(-1,1,10))\n",
        "dst=np.sqrt(X**2+Y**2)\n",
        "sigma,mu=1.0,0.0\n",
        "G = np.exp(-( (dst-mu)**2 / ( 2.0 * sigma**2 ) ) )\n",
        "print(G)"
      ]
    },
    {
      "cell_type": "markdown",
      "metadata": {
        "id": "RXhEfbUDKb4W"
      },
      "source": [
        "#### 57. How to randomly place p elements in a 2D array? (★★☆) \n",
        "(**hint**: np.put, np.random.choice)"
      ]
    },
    {
      "cell_type": "code",
      "execution_count": null,
      "metadata": {
        "id": "UqWjY4W9Kb4X",
        "colab": {
          "base_uri": "https://localhost:8080/"
        },
        "outputId": "bce3be36-324b-434c-ab28-91c6ef141a43"
      },
      "outputs": [
        {
          "output_type": "stream",
          "name": "stdout",
          "text": [
            "[[0. 0. 0. 0. 0. 0. 0. 0. 0. 0.]\n",
            " [0. 0. 0. 0. 0. 0. 0. 0. 0. 1.]\n",
            " [0. 0. 0. 0. 0. 0. 0. 0. 0. 0.]\n",
            " [0. 0. 0. 0. 0. 0. 0. 0. 0. 0.]\n",
            " [0. 0. 0. 0. 0. 0. 0. 0. 0. 0.]\n",
            " [0. 0. 0. 0. 0. 0. 0. 0. 0. 1.]\n",
            " [0. 0. 0. 0. 0. 0. 0. 0. 0. 0.]\n",
            " [0. 0. 0. 0. 0. 0. 0. 1. 0. 0.]\n",
            " [0. 0. 0. 0. 0. 0. 0. 0. 0. 0.]\n",
            " [0. 0. 0. 0. 0. 0. 0. 0. 0. 0.]]\n"
          ]
        }
      ],
      "source": [
        "n=10\n",
        "p=3\n",
        "arr21=np.zeros((n,n))\n",
        "np.put(arr21,np.random.choice(range(n*n),p,replace=False),1)\n",
        "print(arr21)"
      ]
    },
    {
      "cell_type": "markdown",
      "metadata": {
        "id": "8yczvDSLKb4X"
      },
      "source": [
        "#### 58. Subtract the mean of each row of a matrix (★★☆) \n",
        "(**hint**: mean(axis=,keepdims=))"
      ]
    },
    {
      "cell_type": "code",
      "execution_count": null,
      "metadata": {
        "colab": {
          "base_uri": "https://localhost:8080/"
        },
        "id": "2B4NqzraKb4Y",
        "outputId": "1d359685-985d-487c-a369-b49eea496343"
      },
      "outputs": [
        {
          "name": "stdout",
          "output_type": "stream",
          "text": [
            "[[-23.2  28.8  18.8  -9.2 -15.2]\n",
            " [ 36.8 -31.2   2.8 -10.2   1.8]\n",
            " [ 43.6  16.6 -50.4  -3.4  -6.4]\n",
            " [ -9.2 -16.2 -36.2  22.8  38.8]\n",
            " [-46.8 -26.8  26.2  37.2  10.2]]\n"
          ]
        }
      ],
      "source": [
        "M=np.random.randint(0,100,(5,5))\n",
        "N=M-M.mean(axis=1,keepdims=True)\n",
        "print(N)"
      ]
    },
    {
      "cell_type": "markdown",
      "source": [],
      "metadata": {
        "id": "9oSIHtvcpwvL"
      }
    },
    {
      "cell_type": "markdown",
      "metadata": {
        "id": "aUlj2swdKb4Z"
      },
      "source": [
        "#### 59. How to sort an array by the nth column? (★★☆) \n",
        "(**hint**: argsort)"
      ]
    },
    {
      "cell_type": "code",
      "execution_count": null,
      "metadata": {
        "colab": {
          "base_uri": "https://localhost:8080/"
        },
        "id": "uUqAc8ZfKb4a",
        "outputId": "ec10bf66-aba0-4594-a737-3da864a9108b"
      },
      "outputs": [
        {
          "name": "stdout",
          "output_type": "stream",
          "text": [
            "[[9 6 8]\n",
            " [0 5 0]\n",
            " [2 3 1]]\n",
            "[[2 3 1]\n",
            " [0 5 0]\n",
            " [9 6 8]]\n"
          ]
        }
      ],
      "source": [
        "Z = np.random.randint(0,10,(3,3))\n",
        "print(Z)\n",
        "print(Z[Z[:,1].argsort()])"
      ]
    },
    {
      "cell_type": "markdown",
      "metadata": {
        "id": "l-wu4ck2Kb4a"
      },
      "source": [
        "#### 60. How to tell if a given 2D array has null columns? (★★☆) \n",
        "(**hint**: any, ~)"
      ]
    },
    {
      "cell_type": "code",
      "execution_count": null,
      "metadata": {
        "colab": {
          "base_uri": "https://localhost:8080/"
        },
        "id": "hjiebNw5Kb4b",
        "outputId": "6e1d337a-35a9-49c6-ede7-e27d64362085"
      },
      "outputs": [
        {
          "name": "stdout",
          "output_type": "stream",
          "text": [
            "False\n"
          ]
        }
      ],
      "source": [
        "Z1=np.array([[34,0,57,90]\n",
        "             ,[90,0,34,56],[45,67,8,10]])\n",
        "print(~Z1.any(axis=0).any())\n"
      ]
    },
    {
      "cell_type": "markdown",
      "metadata": {
        "id": "FmbJERiAKb4c"
      },
      "source": [
        "#### 61. Find the nearest value from a given value in an array (★★☆) \n",
        "(**hint**: np.abs, argmin, flat)"
      ]
    },
    {
      "cell_type": "code",
      "execution_count": null,
      "metadata": {
        "id": "2ZtDI6VjKb4d",
        "colab": {
          "base_uri": "https://localhost:8080/"
        },
        "outputId": "7d1707ad-acf8-437c-e3b2-dd1bfb3549c6"
      },
      "outputs": [
        {
          "output_type": "stream",
          "name": "stdout",
          "text": [
            "Nearest element to the given values is :  12\n",
            "Index of nearest value is :  4\n"
          ]
        }
      ],
      "source": [
        "arr19=np.array([45,56,78,90,12,34])\n",
        "value=10\n",
        "diff_array=np.abs(arr19-value)\n",
        "index=diff_array.argmin()\n",
        "print(\"Nearest element to the given values is : \", arr19[index])\n",
        "print(\"Index of nearest value is : \", index)"
      ]
    },
    {
      "cell_type": "markdown",
      "metadata": {
        "id": "TF5y1-yCKb4e"
      },
      "source": [
        "#### 62. Considering two arrays with shape (1,3) and (3,1), how to compute their sum using an iterator? (★★☆) \n",
        "(**hint**: np.nditer)"
      ]
    },
    {
      "cell_type": "code",
      "execution_count": null,
      "metadata": {
        "id": "IlSMmvE8Kb4f",
        "colab": {
          "base_uri": "https://localhost:8080/"
        },
        "outputId": "e1237ab4-2050-4328-f8ea-5bad5445a2a0"
      },
      "outputs": [
        {
          "output_type": "stream",
          "name": "stdout",
          "text": [
            "[[0 1 2]\n",
            " [1 2 3]\n",
            " [2 3 4]]\n"
          ]
        }
      ],
      "source": [
        "A=np.arange(3).reshape(3,1)\n",
        "B=np.arange(3).reshape(1,3)\n",
        "iter_=np.nditer([A,B,None])\n",
        "for x,y,z in iter_: z[...]=x+y\n",
        "print(iter_.operands[2])"
      ]
    },
    {
      "cell_type": "markdown",
      "metadata": {
        "id": "8Fb0UUJlKb4g"
      },
      "source": [
        "#### 63. Create an array class that has a name attribute (★★☆) \n",
        "(**hint**: class method)"
      ]
    },
    {
      "cell_type": "code",
      "execution_count": null,
      "metadata": {
        "id": "_ttlDWSTKb4h",
        "colab": {
          "base_uri": "https://localhost:8080/"
        },
        "outputId": "cce5c04f-649c-4462-fadb-0d6470693fc9"
      },
      "outputs": [
        {
          "output_type": "stream",
          "name": "stdout",
          "text": [
            "range_10\n"
          ]
        }
      ],
      "source": [
        "class NamedArray(np.ndarray):\n",
        "    def __new__(cls, array, name=\"no name\"):\n",
        "        obj = np.asarray(array).view(cls)\n",
        "        obj.name = name\n",
        "        return obj\n",
        "    def __array_finalize__(self, obj):\n",
        "        if obj is None: return\n",
        "        self.info = getattr(obj, 'name', \"no name\")\n",
        "\n",
        "Z = NamedArray(np.arange(10), \"range_10\")\n",
        "print (Z.name)"
      ]
    },
    {
      "cell_type": "markdown",
      "metadata": {
        "id": "i_t6T4eLKb4i"
      },
      "source": [
        "#### 64. Consider a given vector, how to add 1 to each element indexed by a second vector (be careful with repeated indices)? (★★★) \n",
        "(**hint**: np.bincount | np.add.at)"
      ]
    },
    {
      "cell_type": "code",
      "execution_count": null,
      "metadata": {
        "id": "tUMmbSV5Kb4j",
        "colab": {
          "base_uri": "https://localhost:8080/"
        },
        "outputId": "edc593d1-d74d-407f-d9e5-e79070eaeb26"
      },
      "outputs": [
        {
          "output_type": "stream",
          "name": "stdout",
          "text": [
            "[4. 1. 4. 4. 2. 3. 4. 3. 4. 1.]\n"
          ]
        }
      ],
      "source": [
        "Z=np.ones(10)\n",
        "I=np.random.randint(0,len(Z),20)\n",
        "np.add.at(Z,I,1)\n",
        "print(Z)"
      ]
    },
    {
      "cell_type": "markdown",
      "metadata": {
        "id": "aJIywpzGKb4k"
      },
      "source": [
        "#### 65. How to accumulate elements of a vector (X) to an array (F) based on an index list (I)? (★★★) \n",
        "(**hint**: np.bincount)"
      ]
    },
    {
      "cell_type": "code",
      "execution_count": null,
      "metadata": {
        "id": "8umKxX42Kb4l",
        "colab": {
          "base_uri": "https://localhost:8080/"
        },
        "outputId": "b4e67304-e385-47c6-b6e3-5a8e72ecf660"
      },
      "outputs": [
        {
          "output_type": "stream",
          "name": "stdout",
          "text": [
            "[0. 5. 3. 7. 6.]\n"
          ]
        }
      ],
      "source": [
        "X=[1,2,3,4,5,6]\n",
        "I=[1,3,2,1,3,4]\n",
        "F=np.bincount(I,X)\n",
        "print(F)"
      ]
    },
    {
      "cell_type": "markdown",
      "metadata": {
        "id": "ln66EvkuKb4l"
      },
      "source": [
        "#### 66. Considering a (w,h,3) image of (dtype=ubyte), compute the number of unique colors (★★★) \n",
        "(**hint**: np.unique)"
      ]
    },
    {
      "cell_type": "code",
      "execution_count": null,
      "metadata": {
        "id": "qfm7ye9tKb4n",
        "colab": {
          "base_uri": "https://localhost:8080/"
        },
        "outputId": "2988ba83-84b9-4502-d13c-476eb24e9e1b"
      },
      "outputs": [
        {
          "output_type": "stream",
          "name": "stdout",
          "text": [
            "[0 1]\n"
          ]
        }
      ],
      "source": [
        "w,h = 16,16\n",
        "I = np.random.randint(0,2,(h,w,3)).astype(np.ubyte)\n",
        "F = I[...,0] * 256*256 + I[...,1] * 256 +I[...,2]\n",
        "n = len(np.unique(F))\n",
        "print(np.unique(I))"
      ]
    },
    {
      "cell_type": "markdown",
      "metadata": {
        "id": "pJEpk7prKb4n"
      },
      "source": [
        "#### 67. Considering a four dimensions array, how to get sum over the last two axis at once? (★★★) \n",
        "(**hint**: sum(axis=(-2,-1)))"
      ]
    },
    {
      "cell_type": "code",
      "execution_count": null,
      "metadata": {
        "id": "mkn02hZuKb4o",
        "colab": {
          "base_uri": "https://localhost:8080/"
        },
        "outputId": "7e3149bb-0bb1-45c2-8fd7-2d296d0f3efa"
      },
      "outputs": [
        {
          "output_type": "stream",
          "name": "stdout",
          "text": [
            "[[818 696 863 818]\n",
            " [821 745 697 815]\n",
            " [756 894 777 766]]\n"
          ]
        }
      ],
      "source": [
        "arr31=np.random.randint(0,50,(3,4,4,8))\n",
        "SUM=arr31.sum(axis=(-2,-1))\n",
        "print(SUM)"
      ]
    },
    {
      "cell_type": "markdown",
      "metadata": {
        "id": "Vrvi2IpRKb4o"
      },
      "source": [
        "#### 68. Considering a one-dimensional vector D, how to compute means of subsets of D using a vector S of same size describing subset  indices? (★★★) \n",
        "(**hint**: np.bincount)"
      ]
    },
    {
      "cell_type": "code",
      "execution_count": null,
      "metadata": {
        "id": "q5BNGpAXKb4p",
        "colab": {
          "base_uri": "https://localhost:8080/"
        },
        "outputId": "84fd661c-ae82-41b0-f995-ba0318667e12"
      },
      "outputs": [
        {
          "output_type": "stream",
          "name": "stdout",
          "text": [
            "[ 8.875       9.          8.14285714  7.33333333  6.2        11.63636364\n",
            "  9.77777778  8.8        10.18181818  7.35714286]\n"
          ]
        }
      ],
      "source": [
        "D=np.random.randint(0,20,100)\n",
        "S=np.random.randint(0,10,100)\n",
        "Sum_d=np.bincount(S,weights=D)\n",
        "counts_d=np.bincount(S)\n",
        "mean=Sum_d/counts_d\n",
        "print(mean)"
      ]
    },
    {
      "cell_type": "markdown",
      "metadata": {
        "id": "MR3Lu9IbKb4p"
      },
      "source": [
        "#### 69. How to get the diagonal of a dot product? (★★★) \n",
        "(**hint**: np.diag)"
      ]
    },
    {
      "cell_type": "code",
      "execution_count": null,
      "metadata": {
        "id": "HvicV7wqKb4q",
        "colab": {
          "base_uri": "https://localhost:8080/"
        },
        "outputId": "8a54f0d2-0967-4187-ccf6-e12f3d8474e4"
      },
      "outputs": [
        {
          "output_type": "stream",
          "name": "stdout",
          "text": [
            "[-5.51837355 -0.2394676  -0.26550057 -0.37940614 -4.34460348]\n"
          ]
        }
      ],
      "source": [
        "np.random.seed(0)\n",
        "A4=np.random.randn(5,5)\n",
        "A5=np.random.randn(5,5)\n",
        "dot_product=np.diag(np.dot(A4, A5))\n",
        "print(dot_product)"
      ]
    },
    {
      "cell_type": "markdown",
      "metadata": {
        "id": "1F0i9xpgKb4q"
      },
      "source": [
        "#### 70. Consider the vector \\[1, 2, 3, 4, 5\\], how to build a new vector with 3 consecutive zeros interleaved between each value? (★★★) \n",
        "(**hint**: array\\[::4\\])"
      ]
    },
    {
      "cell_type": "code",
      "execution_count": null,
      "metadata": {
        "id": "0v38mHadKb4q",
        "colab": {
          "base_uri": "https://localhost:8080/"
        },
        "outputId": "ef48d65e-7936-49a5-e4eb-20dda5da5744"
      },
      "outputs": [
        {
          "output_type": "stream",
          "name": "stdout",
          "text": [
            "Original array:\n",
            "[1 2 3 4 5 6 7 8]\n",
            "New array:\n",
            "[1. 0. 0. 0. 2. 0. 0. 0. 3. 0. 0. 0. 4. 0. 0. 0. 5. 0. 0. 0. 6. 0. 0. 0.\n",
            " 7. 0. 0. 0. 8.]\n"
          ]
        }
      ],
      "source": [
        "nums = np.array([1,2,3,4,5,6,7,8])\n",
        "print(\"Original array:\")\n",
        "print(nums)\n",
        "p = 3\n",
        "new_nums = np.zeros(len(nums) + (len(nums)-1)*(p))\n",
        "new_nums[::p+1] = nums\n",
        "print(\"New array:\")\n",
        "print(new_nums)"
      ]
    },
    {
      "cell_type": "markdown",
      "metadata": {
        "id": "t0kvUmh5Kb4r"
      },
      "source": [
        "#### 71. Consider an array of dimension (5,5,3), how to mulitply it by an array with dimensions (5,5)? (★★★) \n",
        "(**hint**: array\\[:, :, None\\])"
      ]
    },
    {
      "cell_type": "code",
      "execution_count": null,
      "metadata": {
        "collapsed": true,
        "id": "leaOgCBLKb4r",
        "colab": {
          "base_uri": "https://localhost:8080/"
        },
        "outputId": "2867ea22-cf1c-4ae8-fc76-d8b210e63277"
      },
      "outputs": [
        {
          "output_type": "stream",
          "name": "stdout",
          "text": [
            "[[[1720  720 1800]\n",
            "  [ 690   30  180]\n",
            "  [1134 1296  810]\n",
            "  [ 688 1118 1505]\n",
            "  [1519 1302  279]]\n",
            "\n",
            " [[ 880  260  120]\n",
            "  [ 228  234   48]\n",
            "  [ 117   63  144]\n",
            "  [ 594  405  675]\n",
            "  [ 376 1645  282]]\n",
            "\n",
            " [[ 595  245  700]\n",
            "  [ 475   38  304]\n",
            "  [ 540  276  288]\n",
            "  [  72  648  792]\n",
            "  [2401 1127 1470]]\n",
            "\n",
            " [[ 250  200  330]\n",
            "  [1258  782  918]\n",
            "  [ 957 1089  726]\n",
            "  [ 301 1763 2107]\n",
            "  [  27    0   57]]\n",
            "\n",
            " [[ 432  204  240]\n",
            "  [1728  108 1512]\n",
            "  [   1   20   36]\n",
            "  [ 196  784 2352]\n",
            "  [   0    0    0]]]\n"
          ]
        }
      ],
      "source": [
        "arr_1=np.random.randint(0,50,(5,5,3))\n",
        "arr_2=np.random.randint(0,50,(5,5))\n",
        "result=arr_1*arr_2[:,:,None]\n",
        "print(result)\n"
      ]
    },
    {
      "cell_type": "markdown",
      "metadata": {
        "id": "W5yYNzyhKb4r"
      },
      "source": [
        "#### 72. How to swap two rows of an array? (★★★) \n",
        "(**hint**: array\\[\\[\\]\\] = array\\[\\[\\]\\])"
      ]
    },
    {
      "cell_type": "code",
      "execution_count": null,
      "metadata": {
        "id": "xiC19ratKb4s",
        "colab": {
          "base_uri": "https://localhost:8080/"
        },
        "outputId": "543969d8-b90b-44dc-c99b-32f7e019614c"
      },
      "outputs": [
        {
          "output_type": "execute_result",
          "data": {
            "text/plain": [
              "array([[6, 7, 8, 9],\n",
              "       [3, 4, 5, 6],\n",
              "       [9, 4, 5, 6]])"
            ]
          },
          "metadata": {},
          "execution_count": 36
        }
      ],
      "source": [
        "arr14=np.array([[3,4,5,6],\n",
        "                [6,7,8,9],\n",
        "                [9,4,5,6]]\n",
        "                )\n",
        "arr14[[0,1]]=arr14[[1,0]]\n",
        "\n",
        "arr14"
      ]
    },
    {
      "cell_type": "markdown",
      "metadata": {
        "id": "XNmVK5IkKb4s"
      },
      "source": [
        "#### 73. Consider a set of 10 triplets describing 10 triangles (with shared vertices), find the set of unique line segments composing all the  triangles (★★★) \n",
        "(**hint**: repeat, np.roll, np.sort, view, np.unique)"
      ]
    },
    {
      "cell_type": "code",
      "execution_count": null,
      "metadata": {
        "id": "lOUmrl_4Kb4t",
        "colab": {
          "base_uri": "https://localhost:8080/"
        },
        "outputId": "bf06589f-0b3f-4dd3-b723-35b2913103ab"
      },
      "outputs": [
        {
          "output_type": "stream",
          "name": "stdout",
          "text": [
            "[( 0, 47) ( 0, 60) ( 6, 71) ( 6, 94) ( 7, 43) ( 7, 82) (10, 13) (10, 75)\n",
            " (13, 75) (15, 30) (15, 45) (22, 76) (22, 79) (26, 55) (26, 90) (30, 45)\n",
            " (38, 41) (38, 53) (41, 53) (43, 82) (46, 61) (46, 80) (47, 60) (51, 90)\n",
            " (51, 98) (55, 90) (61, 80) (71, 94) (76, 79) (90, 98)]\n"
          ]
        }
      ],
      "source": [
        "faces = np.random.randint(0,100,(10,3))\n",
        "F = np.roll(faces.repeat(2,axis=1),-1,axis=1)\n",
        "F = F.reshape(len(F)*3,2)\n",
        "F = np.sort(F,axis=1)\n",
        "G = F.view( dtype=[('p0',F.dtype),('p1',F.dtype)] )\n",
        "G = np.unique(G)\n",
        "print(G)"
      ]
    },
    {
      "cell_type": "markdown",
      "metadata": {
        "id": "jNgyKHWRKb4t"
      },
      "source": [
        "#### 74. Given an array C that is a bincount, how to produce an array A such that np.bincount(A) == C? (★★★) \n",
        "(**hint**: np.repeat)"
      ]
    },
    {
      "cell_type": "code",
      "execution_count": null,
      "metadata": {
        "id": "c5O509frKb4t",
        "colab": {
          "base_uri": "https://localhost:8080/"
        },
        "outputId": "82bbaa03-6ebc-4654-8818-a9d19d0da955"
      },
      "outputs": [
        {
          "output_type": "stream",
          "name": "stdout",
          "text": [
            "[1 1 1 2 2 4 4 6]\n"
          ]
        }
      ],
      "source": [
        "C=np.bincount([1,1,1,2,2,4,4,6])\n",
        "A=np.repeat(np.arange(len(C)),C)\n",
        "print(A)"
      ]
    },
    {
      "cell_type": "markdown",
      "metadata": {
        "id": "GOF-DzvCKb4u"
      },
      "source": [
        "#### 75. How to compute averages using a sliding window over an array? (★★★) \n",
        "(**hint**: np.cumsum)"
      ]
    },
    {
      "cell_type": "code",
      "execution_count": 35,
      "metadata": {
        "id": "jrCDMa8JKb4v",
        "colab": {
          "base_uri": "https://localhost:8080/"
        },
        "outputId": "89dfa799-151f-4bb5-f2b9-0f884243fc39"
      },
      "outputs": [
        {
          "output_type": "execute_result",
          "data": {
            "text/plain": [
              "array([ 1.,  2.,  3.,  4.,  5.,  6.,  7.,  8.,  9., 10., 11., 12., 13.,\n",
              "       14., 15., 16., 17., 18.])"
            ]
          },
          "metadata": {},
          "execution_count": 35
        }
      ],
      "source": [
        "def moving_average(a,n=3):\n",
        "  ret=np.cumsum(a,dtype=float)\n",
        "  ret[n:]=ret[n:]-ret[:-n]\n",
        "  return ret[n-1:]/n\n",
        "Z=np.arange(20)\n",
        "average=moving_average(Z,n=3)\n",
        "average"
      ]
    },
    {
      "cell_type": "markdown",
      "metadata": {
        "id": "oQSO3O3pKb4w"
      },
      "source": [
        "#### 76. Consider a one-dimensional array Z, build a two-dimensional array whose first row is (Z\\[0\\],Z\\[1\\],Z\\[2\\]) and each subsequent row is  shifted by 1 (last row should be (Z\\[-3\\],Z\\[-2\\],Z\\[-1\\]) (★★★) \n",
        "(**hint**: from numpy.lib import stride_tricks)"
      ]
    },
    {
      "cell_type": "code",
      "execution_count": 4,
      "metadata": {
        "id": "vO7NifM1Kb4w",
        "colab": {
          "base_uri": "https://localhost:8080/"
        },
        "outputId": "1a7b390b-aa38-4d60-950e-82971734a89e"
      },
      "outputs": [
        {
          "output_type": "stream",
          "name": "stdout",
          "text": [
            "[[3 0 3]\n",
            " [0 3 9]\n",
            " [3 9 3]\n",
            " [9 3 2]\n",
            " [3 2 9]\n",
            " [2 9 0]\n",
            " [9 0 9]\n",
            " [0 9 6]\n",
            " [9 6 0]\n",
            " [6 0 7]\n",
            " [0 7 7]\n",
            " [7 7 5]\n",
            " [7 5 0]\n",
            " [5 0 4]\n",
            " [0 4 3]\n",
            " [4 3 6]\n",
            " [3 6 3]\n",
            " [6 3 1]]\n"
          ]
        }
      ],
      "source": [
        "from numpy.lib import stride_tricks\n",
        "import numpy as np\n",
        "a=np.random.randint(0,10,20)\n",
        "window=3\n",
        "shape = (a.size - window + 1, window)\n",
        "strides = (a.itemsize, a.itemsize)\n",
        "Z= stride_tricks.as_strided(a, shape=shape, strides=strides)\n",
        "print(Z)"
      ]
    },
    {
      "cell_type": "markdown",
      "metadata": {
        "id": "kejTm_6_Kb4x"
      },
      "source": [
        "#### 77. How to negate a boolean, or to change the sign of a float inplace? (★★★) \n",
        "(**hint**: np.logical_not, np.negative)"
      ]
    },
    {
      "cell_type": "code",
      "execution_count": 9,
      "metadata": {
        "id": "xw_rCB-0Kb4y",
        "colab": {
          "base_uri": "https://localhost:8080/"
        },
        "outputId": "746e3ae9-8f89-4c14-9791-52ad7bdeb884"
      },
      "outputs": [
        {
          "output_type": "stream",
          "name": "stdout",
          "text": [
            "Logical_not: [0 0 0 0 0 0 0 1 0 0 0 0 0 0 0 0 0 0 0 0 0 0 0 0 0 1 0 1 0 0 0 0 0 0 1 0 0\n",
            " 0 0 0 0 0 0 0 0 0 0 0 0 0 0 0 0 0 0 0 0 0 0 0 0 0 0 0 0 0 0 0 0 1 0 0 0 1\n",
            " 0 0 1 0 0 0 0 0 0 0 0 0 0 0 0 1 0 0 1 0 1 0 0 0 0 0]\n",
            "Negative [ 0.05310241  0.19678509  0.70172963  0.07854313 -0.069584    0.41708719\n",
            "  0.94778447  0.78912036 -0.30357139  0.3894937   0.04099281  0.9944634\n",
            "  0.54990106 -0.43274947  0.07449725 -0.65044565  0.22881691 -0.01291861\n",
            " -0.95384285 -0.39105873 -0.49833219 -0.14623951  0.20055714 -0.57897631\n",
            " -0.39577118 -0.46884303  0.58616169 -0.14573213 -0.43472504  0.22021159\n",
            "  0.1240047   0.9890378  -0.23154918  0.43900421 -0.42715898 -0.56398983\n",
            "  0.37927141 -0.79433307 -0.77770153 -0.22670951  0.027958    0.70320096\n",
            " -0.97967813 -0.71623164  0.75740167 -0.47337159  0.38551859  0.26205621\n",
            " -0.3554024   0.5296397 ]\n"
          ]
        }
      ],
      "source": [
        "Z = np.random.randint(0,10,100)\n",
        "logical=np.logical_not(Z, out=Z)\n",
        "Z = np.random.uniform(-1.0,1.0,50)\n",
        "negative=np.negative(Z, out=Z)\n",
        "print(\"Logical_not:\",logical)\n",
        "print(\"Negative\",negative)"
      ]
    },
    {
      "cell_type": "markdown",
      "metadata": {
        "id": "tFuTU-z2Kb4y"
      },
      "source": [
        "#### 78. Consider 2 sets of points P0,P1 describing lines (2d) and a point p, how to compute distance from p to each line i  (P0\\[i\\],P1\\[i\\])? (★★★)"
      ]
    },
    {
      "cell_type": "code",
      "execution_count": 16,
      "metadata": {
        "id": "fxQEmXilKb4z",
        "colab": {
          "base_uri": "https://localhost:8080/"
        },
        "outputId": "c8a9161e-17ce-4ec4-d6b0-6912b288a0a3"
      },
      "outputs": [
        {
          "output_type": "stream",
          "name": "stdout",
          "text": [
            "[ 7.08995415  1.50827839  3.24900021  3.79022737  8.39232439  0.90197749\n",
            "  2.53460611  9.90669737 16.78484337  0.0169681 ]\n"
          ]
        }
      ],
      "source": [
        "def distance(P0, P1, p):\n",
        "    T = P1 - P0\n",
        "    L = (T**2).sum(axis=1)\n",
        "    U = -((P0[:,0]-p[...,0])*T[:,0] + (P0[:,1]-p[...,1])*T[:,1]) / L\n",
        "    U = U.reshape(len(U),1)\n",
        "    D = P0 + U*T - p\n",
        "    return np.sqrt((D**2).sum(axis=1))\n",
        "\n",
        "P0 = np.random.uniform(-10,10,(10,2))\n",
        "P1 = np.random.uniform(-10,10,(10,2))\n",
        "p  = np.random.uniform(-10,10,( 1,2))\n",
        "print(distance(P0, P1, p))"
      ]
    },
    {
      "cell_type": "markdown",
      "metadata": {
        "id": "wzf72igRKb4z"
      },
      "source": [
        "#### 79. Consider 2 sets of points P0,P1 describing lines (2d) and a set of points P, how to compute distance from each point j (P\\[j\\]) to each line i (P0\\[i\\],P1\\[i\\])? (★★★)"
      ]
    },
    {
      "cell_type": "code",
      "execution_count": 18,
      "metadata": {
        "id": "MDQVRulwKb40",
        "colab": {
          "base_uri": "https://localhost:8080/"
        },
        "outputId": "59431bb3-80d2-4dd7-b88c-a0c27a92e025"
      },
      "outputs": [
        {
          "output_type": "stream",
          "name": "stdout",
          "text": [
            "[[2.59061763e+00 6.31774875e-01 2.36214800e+00 3.46944459e+00\n",
            "  7.03194093e-01 2.67644783e+00 4.58415503e+00 4.79753422e+00\n",
            "  6.64739062e+00 2.65467642e+00]\n",
            " [2.88371305e+00 1.54410846e+00 8.89900752e+00 6.69213599e+00\n",
            "  9.71498143e+00 3.02472059e+00 1.43475715e+01 1.52364803e+00\n",
            "  1.70525400e+01 3.18103110e+00]\n",
            " [1.67948043e+00 8.88391599e-01 5.19195232e+00 1.05591108e-02\n",
            "  2.70386634e+00 1.68014702e+00 7.32987099e+00 4.67851350e+00\n",
            "  9.83450883e+00 1.81697179e-04]\n",
            " [5.53874464e+00 5.47145139e+00 3.98457844e+00 3.41598064e+00\n",
            "  7.00205142e+00 5.56971488e+00 1.38809371e+01 2.04092015e+00\n",
            "  1.53441059e+01 1.80309321e+00]\n",
            " [4.28860964e+00 9.40905314e+00 9.99125284e+00 1.15724276e+01\n",
            "  7.36747285e+00 3.92801290e+00 3.61956943e+00 4.34541533e+00\n",
            "  2.53827095e+00 1.52013648e+01]\n",
            " [6.17195516e+00 1.55342655e+00 3.32692932e+00 1.15507500e+01\n",
            "  8.87569913e+00 6.44463297e+00 2.71202967e+00 6.59393869e+00\n",
            "  1.33997653e+00 7.83781691e+00]\n",
            " [1.32311900e+00 1.60971304e+00 1.01593482e+00 6.08070305e+00\n",
            "  2.98956511e+00 1.48956847e+00 3.69740974e+00 2.84351147e+00\n",
            "  4.96958329e+00 6.03152192e+00]\n",
            " [6.25452879e+00 7.45742330e+00 4.96729050e-02 1.15897637e-01\n",
            "  3.76366598e+00 6.18479416e+00 1.20758268e+01 3.64006058e+00\n",
            "  1.27028473e+01 5.66950800e+00]\n",
            " [7.11220763e+00 4.97128174e+00 4.11952538e+00 4.59998917e+00\n",
            "  2.43407834e+00 7.19060847e+00 1.12457919e+00 9.25143649e+00\n",
            "  4.03250262e+00 5.57495160e-01]\n",
            " [7.71673412e+00 9.35232455e+00 1.90242167e+00 1.15457576e+00\n",
            "  2.99422852e+00 7.60693279e+00 1.23042467e+01 5.41871573e+00\n",
            "  1.23922921e+01 7.68521446e+00]]\n"
          ]
        }
      ],
      "source": [
        "p0=np.random.uniform(-10,10,(10,2))\n",
        "p1=np.random.uniform(-10,10,(10,2))\n",
        "p=np.random.uniform(-10,10,(10,2))\n",
        "print(np.array([distance(p0,p1,p_i) for p_i in p]))"
      ]
    },
    {
      "cell_type": "markdown",
      "metadata": {
        "id": "8WgfqwQAKb40"
      },
      "source": [
        "#### 80. Consider an arbitrary array, write a function that extract a subpart with a fixed shape and centered on a given element (pad with a `fill` value when necessary) (★★★) \n",
        "(**hint**: minimum, maximum)"
      ]
    },
    {
      "cell_type": "code",
      "execution_count": null,
      "metadata": {
        "id": "RYNewQ4tKb40"
      },
      "outputs": [],
      "source": []
    },
    {
      "cell_type": "markdown",
      "metadata": {
        "id": "UOjmHhCvKb41"
      },
      "source": [
        "#### 81. Consider an array Z = \\[1,2,3,4,5,6,7,8,9,10,11,12,13,14\\], how to generate an array R = \\[\\[1,2,3,4\\], \\[2,3,4,5\\], \\[3,4,5,6\\], ..., \\[11,12,13,14\\]\\]? (★★★) \n",
        "(**hint**: stride\\_tricks.as\\_strided)"
      ]
    },
    {
      "cell_type": "code",
      "execution_count": null,
      "metadata": {
        "id": "gqIyJ1ZOKb42",
        "colab": {
          "base_uri": "https://localhost:8080/"
        },
        "outputId": "645f3938-b1da-45d6-efc4-5e99a5f609ce"
      },
      "outputs": [
        {
          "output_type": "stream",
          "name": "stdout",
          "text": [
            "[[ 1  2  3  4]\n",
            " [ 2  3  4  5]\n",
            " [ 3  4  5  6]\n",
            " [ 4  5  6  7]\n",
            " [ 5  6  7  8]\n",
            " [ 6  7  8  9]\n",
            " [ 7  8  9 10]\n",
            " [ 8  9 10 11]\n",
            " [ 9 10 11 12]\n",
            " [10 11 12 13]\n",
            " [11 12 13 14]]\n"
          ]
        }
      ],
      "source": [
        "from numpy.lib import stride_tricks\n",
        "Z=np.arange(1,15,dtype=np.uint32)\n",
        "R=stride_tricks.as_strided(Z,(11,4),strides=(4,4))\n",
        "print(R)"
      ]
    },
    {
      "cell_type": "markdown",
      "metadata": {
        "id": "FgOQJSajKb42"
      },
      "source": [
        "#### 82. Compute a matrix rank (★★★) \n",
        "(**hint**: np.linalg.svd) (suggestion: np.linalg.svd)"
      ]
    },
    {
      "cell_type": "code",
      "execution_count": null,
      "metadata": {
        "id": "zDVLkbwsKb42",
        "colab": {
          "base_uri": "https://localhost:8080/"
        },
        "outputId": "43055fb6-b50e-41c5-f558-5f9c02a552ca"
      },
      "outputs": [
        {
          "output_type": "stream",
          "name": "stdout",
          "text": [
            "10\n"
          ]
        }
      ],
      "source": [
        "Z=np.random.uniform(0,1,(10,10))\n",
        "U,S,V=np.linalg.svd(Z)\n",
        "rank=np.sum(S>1e-10)\n",
        "print(rank)"
      ]
    },
    {
      "cell_type": "markdown",
      "metadata": {
        "id": "7xNqsmiUKb42"
      },
      "source": [
        "#### 83. How to find the most frequent value in an array? \n",
        "(**hint**: np.bincount, argmax)"
      ]
    },
    {
      "cell_type": "code",
      "execution_count": null,
      "metadata": {
        "id": "3M2tg76CKb43",
        "colab": {
          "base_uri": "https://localhost:8080/"
        },
        "outputId": "1b9d1f3d-466c-48a0-81a4-78e08ca2d21c"
      },
      "outputs": [
        {
          "output_type": "stream",
          "name": "stdout",
          "text": [
            "10\n"
          ]
        }
      ],
      "source": [
        "Z=np.random.randint(10,20,50)\n",
        "print(np.bincount(Z).argmax())"
      ]
    },
    {
      "cell_type": "markdown",
      "metadata": {
        "id": "VQqltheRKb43"
      },
      "source": [
        "#### 84. Extract all the contiguous 3x3 blocks from a random 10x10 matrix (★★★) \n",
        "(**hint**: stride\\_tricks.as\\_strided)"
      ]
    },
    {
      "cell_type": "code",
      "execution_count": 10,
      "metadata": {
        "id": "pVNAINTpKb43",
        "colab": {
          "base_uri": "https://localhost:8080/"
        },
        "outputId": "34ff2f4c-f295-4158-9096-fef2a14cb662"
      },
      "outputs": [
        {
          "output_type": "stream",
          "name": "stdout",
          "text": [
            "[[[[4 0 4]\n",
            "   [1 1 0]\n",
            "   [1 4 1]]\n",
            "\n",
            "  [[0 4 2]\n",
            "   [1 0 2]\n",
            "   [4 1 0]]\n",
            "\n",
            "  [[4 2 1]\n",
            "   [0 2 4]\n",
            "   [1 0 3]]\n",
            "\n",
            "  [[2 1 3]\n",
            "   [2 4 0]\n",
            "   [0 3 2]]\n",
            "\n",
            "  [[1 3 2]\n",
            "   [4 0 2]\n",
            "   [3 2 3]]\n",
            "\n",
            "  [[3 2 3]\n",
            "   [0 2 2]\n",
            "   [2 3 1]]\n",
            "\n",
            "  [[2 3 1]\n",
            "   [2 2 2]\n",
            "   [3 1 4]]\n",
            "\n",
            "  [[3 1 0]\n",
            "   [2 2 1]\n",
            "   [1 4 0]]]\n",
            "\n",
            "\n",
            " [[[1 1 0]\n",
            "   [1 4 1]\n",
            "   [4 4 0]]\n",
            "\n",
            "  [[1 0 2]\n",
            "   [4 1 0]\n",
            "   [4 0 1]]\n",
            "\n",
            "  [[0 2 4]\n",
            "   [1 0 3]\n",
            "   [0 1 0]]\n",
            "\n",
            "  [[2 4 0]\n",
            "   [0 3 2]\n",
            "   [1 0 0]]\n",
            "\n",
            "  [[4 0 2]\n",
            "   [3 2 3]\n",
            "   [0 0 1]]\n",
            "\n",
            "  [[0 2 2]\n",
            "   [2 3 1]\n",
            "   [0 1 0]]\n",
            "\n",
            "  [[2 2 2]\n",
            "   [3 1 4]\n",
            "   [1 0 4]]\n",
            "\n",
            "  [[2 2 1]\n",
            "   [1 4 0]\n",
            "   [0 4 1]]]\n",
            "\n",
            "\n",
            " [[[1 4 1]\n",
            "   [4 4 0]\n",
            "   [1 2 1]]\n",
            "\n",
            "  [[4 1 0]\n",
            "   [4 0 1]\n",
            "   [2 1 0]]\n",
            "\n",
            "  [[1 0 3]\n",
            "   [0 1 0]\n",
            "   [1 0 3]]\n",
            "\n",
            "  [[0 3 2]\n",
            "   [1 0 0]\n",
            "   [0 3 0]]\n",
            "\n",
            "  [[3 2 3]\n",
            "   [0 0 1]\n",
            "   [3 0 2]]\n",
            "\n",
            "  [[2 3 1]\n",
            "   [0 1 0]\n",
            "   [0 2 3]]\n",
            "\n",
            "  [[3 1 4]\n",
            "   [1 0 4]\n",
            "   [2 3 2]]\n",
            "\n",
            "  [[1 4 0]\n",
            "   [0 4 1]\n",
            "   [3 2 2]]]\n",
            "\n",
            "\n",
            " [[[4 4 0]\n",
            "   [1 2 1]\n",
            "   [1 4 3]]\n",
            "\n",
            "  [[4 0 1]\n",
            "   [2 1 0]\n",
            "   [4 3 3]]\n",
            "\n",
            "  [[0 1 0]\n",
            "   [1 0 3]\n",
            "   [3 3 4]]\n",
            "\n",
            "  [[1 0 0]\n",
            "   [0 3 0]\n",
            "   [3 4 2]]\n",
            "\n",
            "  [[0 0 1]\n",
            "   [3 0 2]\n",
            "   [4 2 4]]\n",
            "\n",
            "  [[0 1 0]\n",
            "   [0 2 3]\n",
            "   [2 4 4]]\n",
            "\n",
            "  [[1 0 4]\n",
            "   [2 3 2]\n",
            "   [4 4 1]]\n",
            "\n",
            "  [[0 4 1]\n",
            "   [3 2 2]\n",
            "   [4 1 0]]]\n",
            "\n",
            "\n",
            " [[[1 2 1]\n",
            "   [1 4 3]\n",
            "   [2 3 0]]\n",
            "\n",
            "  [[2 1 0]\n",
            "   [4 3 3]\n",
            "   [3 0 3]]\n",
            "\n",
            "  [[1 0 3]\n",
            "   [3 3 4]\n",
            "   [0 3 0]]\n",
            "\n",
            "  [[0 3 0]\n",
            "   [3 4 2]\n",
            "   [3 0 0]]\n",
            "\n",
            "  [[3 0 2]\n",
            "   [4 2 4]\n",
            "   [0 0 1]]\n",
            "\n",
            "  [[0 2 3]\n",
            "   [2 4 4]\n",
            "   [0 1 3]]\n",
            "\n",
            "  [[2 3 2]\n",
            "   [4 4 1]\n",
            "   [1 3 4]]\n",
            "\n",
            "  [[3 2 2]\n",
            "   [4 1 0]\n",
            "   [3 4 3]]]\n",
            "\n",
            "\n",
            " [[[1 4 3]\n",
            "   [2 3 0]\n",
            "   [4 1 4]]\n",
            "\n",
            "  [[4 3 3]\n",
            "   [3 0 3]\n",
            "   [1 4 0]]\n",
            "\n",
            "  [[3 3 4]\n",
            "   [0 3 0]\n",
            "   [4 0 1]]\n",
            "\n",
            "  [[3 4 2]\n",
            "   [3 0 0]\n",
            "   [0 1 2]]\n",
            "\n",
            "  [[4 2 4]\n",
            "   [0 0 1]\n",
            "   [1 2 0]]\n",
            "\n",
            "  [[2 4 4]\n",
            "   [0 1 3]\n",
            "   [2 0 2]]\n",
            "\n",
            "  [[4 4 1]\n",
            "   [1 3 4]\n",
            "   [0 2 3]]\n",
            "\n",
            "  [[4 1 0]\n",
            "   [3 4 3]\n",
            "   [2 3 3]]]\n",
            "\n",
            "\n",
            " [[[2 3 0]\n",
            "   [4 1 4]\n",
            "   [1 2 0]]\n",
            "\n",
            "  [[3 0 3]\n",
            "   [1 4 0]\n",
            "   [2 0 3]]\n",
            "\n",
            "  [[0 3 0]\n",
            "   [4 0 1]\n",
            "   [0 3 2]]\n",
            "\n",
            "  [[3 0 0]\n",
            "   [0 1 2]\n",
            "   [3 2 4]]\n",
            "\n",
            "  [[0 0 1]\n",
            "   [1 2 0]\n",
            "   [2 4 4]]\n",
            "\n",
            "  [[0 1 3]\n",
            "   [2 0 2]\n",
            "   [4 4 2]]\n",
            "\n",
            "  [[1 3 4]\n",
            "   [0 2 3]\n",
            "   [4 2 3]]\n",
            "\n",
            "  [[3 4 3]\n",
            "   [2 3 3]\n",
            "   [2 3 3]]]\n",
            "\n",
            "\n",
            " [[[4 1 4]\n",
            "   [1 2 0]\n",
            "   [4 3 1]]\n",
            "\n",
            "  [[1 4 0]\n",
            "   [2 0 3]\n",
            "   [3 1 2]]\n",
            "\n",
            "  [[4 0 1]\n",
            "   [0 3 2]\n",
            "   [1 2 1]]\n",
            "\n",
            "  [[0 1 2]\n",
            "   [3 2 4]\n",
            "   [2 1 4]]\n",
            "\n",
            "  [[1 2 0]\n",
            "   [2 4 4]\n",
            "   [1 4 2]]\n",
            "\n",
            "  [[2 0 2]\n",
            "   [4 4 2]\n",
            "   [4 2 4]]\n",
            "\n",
            "  [[0 2 3]\n",
            "   [4 2 3]\n",
            "   [2 4 4]]\n",
            "\n",
            "  [[2 3 3]\n",
            "   [2 3 3]\n",
            "   [4 4 1]]]]\n"
          ]
        }
      ],
      "source": [
        "Z = np.random.randint(0,5,(10,10))\n",
        "n = 3\n",
        "i = 1 + (Z.shape[0]-3)\n",
        "j = 1 + (Z.shape[1]-3)\n",
        "C = stride_tricks.as_strided(Z, shape=(i, j, n, n), strides=Z.strides + Z.strides)\n",
        "print(C)"
      ]
    },
    {
      "cell_type": "markdown",
      "metadata": {
        "id": "LGG5GoftKb43"
      },
      "source": [
        "#### 85. Create a 2D array subclass such that Z\\[i,j\\] == Z\\[j,i\\] (★★★) \n",
        "(**hint**: class method)"
      ]
    },
    {
      "cell_type": "code",
      "execution_count": null,
      "metadata": {
        "id": "_fV4gOy2Kb43"
      },
      "outputs": [],
      "source": []
    },
    {
      "cell_type": "markdown",
      "metadata": {
        "id": "Z19zu4U_Kb44"
      },
      "source": [
        "#### 86. Consider a set of p matrices wich shape (n,n) and a set of p vectors with shape (n,1). How to compute the sum of of the p matrix products at once? (result has shape (n,1)) (★★★) \n",
        "(**hint**: np.tensordot)"
      ]
    },
    {
      "cell_type": "code",
      "execution_count": 11,
      "metadata": {
        "id": "wceQYVVqKb44",
        "colab": {
          "base_uri": "https://localhost:8080/"
        },
        "outputId": "f145b9e8-e7df-4c11-a5b9-97c64707ea16"
      },
      "outputs": [
        {
          "output_type": "stream",
          "name": "stdout",
          "text": [
            "[[200.]\n",
            " [200.]\n",
            " [200.]\n",
            " [200.]\n",
            " [200.]\n",
            " [200.]\n",
            " [200.]\n",
            " [200.]\n",
            " [200.]\n",
            " [200.]\n",
            " [200.]\n",
            " [200.]\n",
            " [200.]\n",
            " [200.]\n",
            " [200.]\n",
            " [200.]\n",
            " [200.]\n",
            " [200.]\n",
            " [200.]\n",
            " [200.]]\n"
          ]
        }
      ],
      "source": [
        "p, n = 10, 20\n",
        "M = np.ones((p,n,n))\n",
        "V = np.ones((p,n,1))\n",
        "S = np.tensordot(M, V, axes=[[0, 2], [0, 1]])\n",
        "print(S)"
      ]
    },
    {
      "cell_type": "markdown",
      "metadata": {
        "id": "HLYW-6TEKb44"
      },
      "source": [
        "#### 87. Consider a 16x16 array, how to get the block-sum (block size is 4x4)? (★★★) \n",
        "(**hint**: np.add.reduceat)"
      ]
    },
    {
      "cell_type": "code",
      "execution_count": 14,
      "metadata": {
        "id": "55I9gs1BKb44",
        "colab": {
          "base_uri": "https://localhost:8080/"
        },
        "outputId": "b696f560-d1e8-46b1-a117-07ba1745a5db"
      },
      "outputs": [
        {
          "output_type": "stream",
          "name": "stdout",
          "text": [
            "[[16. 16. 16. 16.]\n",
            " [16. 16. 16. 16.]\n",
            " [16. 16. 16. 16.]\n",
            " [16. 16. 16. 16.]]\n"
          ]
        }
      ],
      "source": [
        "Z = np.ones((16,16))\n",
        "k = 4\n",
        "S = np.add.reduceat(np.add.reduceat(Z, np.arange(0, Z.shape[0], k), axis=0),\n",
        "                                       np.arange(0, Z.shape[1], k), axis=1)\n",
        "print(S)"
      ]
    },
    {
      "cell_type": "markdown",
      "metadata": {
        "id": "FrTMNckPKb44"
      },
      "source": [
        "#### 88. How to implement the Game of Life using numpy arrays? (★★★)"
      ]
    },
    {
      "cell_type": "code",
      "execution_count": null,
      "metadata": {
        "id": "hEpPHxWXKb45"
      },
      "outputs": [],
      "source": []
    },
    {
      "cell_type": "markdown",
      "metadata": {
        "id": "4cQz5iP7Kb45"
      },
      "source": [
        "#### 89. How to get the n largest values of an array (★★★) \n",
        "(**hint**: np.argsort | np.argpartition)"
      ]
    },
    {
      "cell_type": "code",
      "execution_count": 22,
      "metadata": {
        "id": "CyjpNOelKb45",
        "colab": {
          "base_uri": "https://localhost:8080/"
        },
        "outputId": "416c5ceb-13d0-4477-9245-4e06338265b4"
      },
      "outputs": [
        {
          "output_type": "stream",
          "name": "stdout",
          "text": [
            "[9995 9996 9997 9998 9999]\n",
            "[9999 9998 9997 9996 9995]\n"
          ]
        }
      ],
      "source": [
        "from numpy.lib.npyio import NpzFile\n",
        "Z=np.arange(10000)\n",
        "np.random.shuffle(Z)\n",
        "n=5\n",
        "print(Z[np.argsort(Z)[-n:]])\n",
        "print(Z[np.argpartition(-Z,n)[:n]])"
      ]
    },
    {
      "cell_type": "markdown",
      "metadata": {
        "id": "_kgPQBT1Kb45"
      },
      "source": [
        "#### 90. Given an arbitrary number of vectors, build the cartesian product (every combinations of every item) (★★★) \n",
        "(**hint**: np.indices)"
      ]
    },
    {
      "cell_type": "code",
      "execution_count": 23,
      "metadata": {
        "id": "r0xeZ4bBKb46",
        "scrolled": true,
        "colab": {
          "base_uri": "https://localhost:8080/"
        },
        "outputId": "fabf2757-7a92-47fe-ba80-b44fb52167f0"
      },
      "outputs": [
        {
          "output_type": "stream",
          "name": "stdout",
          "text": [
            "[[1 0 0]\n",
            " [1 0 1]\n",
            " [1 1 0]\n",
            " [1 1 1]\n",
            " [2 0 0]\n",
            " [2 0 1]\n",
            " [2 1 0]\n",
            " [2 1 1]\n",
            " [3 0 0]\n",
            " [3 0 1]\n",
            " [3 1 0]\n",
            " [3 1 1]]\n"
          ]
        }
      ],
      "source": [
        "def cartesian(arrays):\n",
        "  arrays=[np.asarray(a) for a in arrays]\n",
        "  shape=(len(x) for x in arrays)\n",
        "\n",
        "  ix=np.indices(shape,dtype=int)\n",
        "  ix=ix.reshape(len(arrays),-1).T\n",
        "\n",
        "  for n ,arr in enumerate(arrays):\n",
        "    ix[:,n]=arrays[n][ix[:,n]]\n",
        "    return ix\n",
        "\n",
        "m=cartesian(([1,2,3],[6,7],[9,10]))\n",
        "print(m)"
      ]
    },
    {
      "cell_type": "markdown",
      "metadata": {
        "id": "1bLXQ9BKKb46"
      },
      "source": [
        "#### 91. How to create a record array from a regular array? (★★★) \n",
        "(**hint**: np.core.records.fromarrays)"
      ]
    },
    {
      "cell_type": "code",
      "execution_count": 33,
      "metadata": {
        "id": "BCYyxB6oKb46",
        "colab": {
          "base_uri": "https://localhost:8080/"
        },
        "outputId": "14f86f69-6cdd-42c2-80fe-f27c0e2585cd"
      },
      "outputs": [
        {
          "output_type": "stream",
          "name": "stdout",
          "text": [
            "[(b'Hello', 2.5, 3) (b'world', 3.4, 8)]\n"
          ]
        }
      ],
      "source": [
        "Z__1=np.array([(\"Hello\",2.5,3),\n",
        "            (\"world\",3.4,8)\n",
        "            ])\n",
        "Record_array=np.core.records.fromarrays(Z__1.T,names='col1,col2,col3',formats='S8,f8,i8')\n",
        "print(Record_array)"
      ]
    },
    {
      "cell_type": "markdown",
      "metadata": {
        "id": "k7agVP9TKb47"
      },
      "source": [
        "#### 92. Consider a large vector Z, compute Z to the power of 3 using 3 different methods (★★★) \n",
        "(**hint**: np.power, \\*, np.einsum)"
      ]
    },
    {
      "cell_type": "code",
      "execution_count": 31,
      "metadata": {
        "id": "BJvmGEVRKb47",
        "colab": {
          "base_uri": "https://localhost:8080/"
        },
        "outputId": "707394c5-a2d9-4836-cdff-2fdeac307d28"
      },
      "outputs": [
        {
          "output_type": "execute_result",
          "data": {
            "text/plain": [
              "(array([  941192,  3581577,  3511808, ...,   117649, 10793861, 20123648]),\n",
              " array([ 9604, 23409, 23104, ...,  2401, 48841, 73984]),\n",
              " array([  941192,  3581577,  3511808, ...,   117649, 10793861, 20123648]))"
            ]
          },
          "metadata": {},
          "execution_count": 31
        }
      ],
      "source": [
        "X=np.random.randint(1,300,10000)\n",
        "\n",
        "c_1=np.power(X,3)\n",
        "c_2=X*X\n",
        "c_3=np.einsum('i,i,i->i',X,X,X)\n",
        "c_1,c_2,c_3"
      ]
    },
    {
      "cell_type": "markdown",
      "metadata": {
        "id": "q7blxGp5Kb47"
      },
      "source": [
        "#### 93. Consider two arrays A and B of shape (8,3) and (2,2). How to find rows of A that contain elements of each row of B regardless of the order of the elements in B? (★★★) \n",
        "(**hint**: np.where)"
      ]
    },
    {
      "cell_type": "code",
      "execution_count": 58,
      "metadata": {
        "id": "Y967-PpyKb47",
        "colab": {
          "base_uri": "https://localhost:8080/"
        },
        "outputId": "ab743d57-c085-45fa-cfda-68230376b727"
      },
      "outputs": [
        {
          "output_type": "stream",
          "name": "stdout",
          "text": [
            "[2]\n"
          ]
        }
      ],
      "source": [
        "A = np.random.randint(0,10,(8,3))\n",
        "B = np.random.randint(0,10,(2,2))\n",
        "\n",
        "C = (A[..., np.newaxis, np.newaxis] == B)\n",
        "rows = np.where(C.any((3,1)).all(1))[0]\n",
        "print(rows)"
      ]
    },
    {
      "cell_type": "markdown",
      "metadata": {
        "id": "DNToA9OKKb48"
      },
      "source": [
        "#### 94. Considering a 10x3 matrix, extract rows with unequal values (e.g. \\[2,2,3\\]) (★★★)"
      ]
    },
    {
      "cell_type": "code",
      "execution_count": null,
      "metadata": {
        "id": "_aCwTIfAKb48"
      },
      "outputs": [],
      "source": []
    },
    {
      "cell_type": "markdown",
      "metadata": {
        "id": "2yM1NHCOKb48"
      },
      "source": [
        "#### 95. Convert a vector of ints into a matrix binary representation (★★★) \n",
        "(**hint**: np.unpackbits)"
      ]
    },
    {
      "cell_type": "code",
      "execution_count": 48,
      "metadata": {
        "id": "sYLKZ6CcKb48",
        "colab": {
          "base_uri": "https://localhost:8080/"
        },
        "outputId": "587d8022-29ef-44ea-e48b-9073d08541e2"
      },
      "outputs": [
        {
          "output_type": "stream",
          "name": "stdout",
          "text": [
            "[[0 0 0 0 0 0 1 0]\n",
            " [0 0 0 0 0 0 1 1]\n",
            " [0 0 0 0 0 1 0 0]\n",
            " [0 0 0 0 0 1 1 1]\n",
            " [0 0 0 0 1 0 0 0]\n",
            " [0 0 0 0 1 0 0 1]\n",
            " [0 0 0 0 1 0 1 1]\n",
            " [0 0 0 1 0 1 1 1]\n",
            " [0 0 1 0 1 1 0 1]]\n"
          ]
        }
      ],
      "source": [
        "matrix_2=np.array([2,3,4,7,8,9,11,23,45],dtype=np.uint8)\n",
        "print(np.unpackbits(matrix_2[:,np.newaxis],axis=1))"
      ]
    },
    {
      "cell_type": "markdown",
      "metadata": {
        "id": "gRU7522EKb48"
      },
      "source": [
        "#### 96. Given a two dimensional array, how to extract unique rows? (★★★) \n",
        "(**hint**: np.ascontiguousarray)"
      ]
    },
    {
      "cell_type": "code",
      "execution_count": 39,
      "metadata": {
        "id": "DNXsqAYjKb49",
        "colab": {
          "base_uri": "https://localhost:8080/"
        },
        "outputId": "af82305a-1db3-459e-fbce-af7b663cdf24"
      },
      "outputs": [
        {
          "output_type": "stream",
          "name": "stdout",
          "text": [
            "[ 0  1  2  3  4  5  6  7  8  9 10 11 12 13 14 15 16 17 18 19]\n"
          ]
        }
      ],
      "source": [
        "Z__3=np.random.randint(0,100,(5,5))\n",
        "unique=np.unique(Z,axis=0)\n",
        "print(unique)"
      ]
    },
    {
      "cell_type": "markdown",
      "metadata": {
        "id": "OL4MvVnmKb49"
      },
      "source": [
        "#### 97. Considering 2 vectors A & B, write the einsum equivalent of inner, outer, sum, and mul function (★★★) \n",
        "(**hint**: np.einsum)"
      ]
    },
    {
      "cell_type": "code",
      "execution_count": 44,
      "metadata": {
        "id": "DQyphr7qKb49",
        "colab": {
          "base_uri": "https://localhost:8080/"
        },
        "outputId": "3162f9ed-64d7-4e0a-8fbb-859a61b24b0c"
      },
      "outputs": [
        {
          "output_type": "stream",
          "name": "stdout",
          "text": [
            "sum\n",
            "118\n",
            "multiply\n",
            "[ 855 1692 1157  540  960  912  148  854  952 1104]\n",
            "inner\n",
            "9174\n",
            "outer\n",
            "[[ 855  846  801  486  864  684  666  549  612  621]\n",
            " [1710 1692 1602  972 1728 1368 1332 1098 1224 1242]\n",
            " [1235 1222 1157  702 1248  988  962  793  884  897]\n",
            " [ 950  940  890  540  960  760  740  610  680  690]\n",
            " [ 950  940  890  540  960  760  740  610  680  690]\n",
            " [1140 1128 1068  648 1152  912  888  732  816  828]\n",
            " [ 190  188  178  108  192  152  148  122  136  138]\n",
            " [1330 1316 1246  756 1344 1064 1036  854  952  966]\n",
            " [1330 1316 1246  756 1344 1064 1036  854  952  966]\n",
            " [1520 1504 1424  864 1536 1216 1184  976 1088 1104]]\n"
          ]
        }
      ],
      "source": [
        "A=np.random.randint(0,20,10)\n",
        "B=np.random.randint(50,100,10)\n",
        "print('sum')\n",
        "print(np.einsum('i->',A))\n",
        "print('multiply')\n",
        "print(np.einsum('i,i->i',A,B))\n",
        "print('inner')\n",
        "print(np.einsum('i,i',A,B))\n",
        "print('outer')\n",
        "print(np.einsum('i,j->ij',A,B))"
      ]
    },
    {
      "cell_type": "markdown",
      "metadata": {
        "id": "NVhY-TtlKb49"
      },
      "source": [
        "#### 98. Considering a path described by two vectors (X,Y), how to sample it using equidistant samples (★★★)? \n",
        "(**hint**: np.cumsum, np.interp)"
      ]
    },
    {
      "cell_type": "code",
      "execution_count": null,
      "metadata": {
        "collapsed": true,
        "id": "1qFTBO2KKb49"
      },
      "outputs": [],
      "source": []
    },
    {
      "cell_type": "markdown",
      "metadata": {
        "id": "3g4dORJgKb4-"
      },
      "source": [
        "#### 99. Given an integer n and a 2D array X, select from X the rows which can be interpreted as draws from a multinomial distribution with n degrees, i.e., the rows which only contain integers and which sum to n. (★★★) \n",
        "(**hint**: np.logical\\_and.reduce, np.mod)"
      ]
    },
    {
      "cell_type": "code",
      "execution_count": 59,
      "metadata": {
        "id": "AQpA9cJwKb4-",
        "colab": {
          "base_uri": "https://localhost:8080/"
        },
        "outputId": "216af693-037b-4510-89e1-e148bc33be91"
      },
      "outputs": [
        {
          "output_type": "stream",
          "name": "stdout",
          "text": [
            "[[2. 0. 1. 1.]]\n"
          ]
        }
      ],
      "source": [
        "X = np.asarray([[1.0, 0.0, 3.0, 8.0],\n",
        "                [2.0, 0.0, 1.0, 1.0],\n",
        "                [1.5, 2.5, 1.0, 0.0]])\n",
        "n = 4\n",
        "M = np.logical_and.reduce(np.mod(X, 1) == 0, axis=-1)\n",
        "M &= (X.sum(axis=-1) == n)\n",
        "print(X[M])\n"
      ]
    },
    {
      "cell_type": "markdown",
      "metadata": {
        "id": "5_64faW4Kb4-"
      },
      "source": [
        "#### 100. Compute bootstrapped 95% confidence intervals for the mean of a 1D array X (i.e., resample the elements of an array with replacement N times, compute the mean of each sample, and then compute percentiles over the means). (★★★) \n",
        "(**hint**: np.percentile)"
      ]
    },
    {
      "cell_type": "code",
      "execution_count": 62,
      "metadata": {
        "id": "r-ua9LlOKb4-",
        "colab": {
          "base_uri": "https://localhost:8080/",
          "height": 130
        },
        "outputId": "85720099-9073-4d9e-b5cf-6c614912bca5"
      },
      "outputs": [
        {
          "output_type": "error",
          "ename": "SyntaxError",
          "evalue": "ignored",
          "traceback": [
            "\u001b[0;36m  File \u001b[0;32m\"<ipython-input-62-bafa1b4f233f>\"\u001b[0;36m, line \u001b[0;32m5\u001b[0m\n\u001b[0;31m    confint = np.percentile(means,[2.5.97.5])\u001b[0m\n\u001b[0m                                      ^\u001b[0m\n\u001b[0;31mSyntaxError\u001b[0m\u001b[0;31m:\u001b[0m invalid syntax\n"
          ]
        }
      ],
      "source": [
        "X = np.random.randn(100) # random 1D array\n",
        "N = 1000 # number of bootstrap samples\n",
        "idx = np.random.randint(0, X.size, (N, X.size))\n",
        "means = X[idx].mean(axis=1)\n",
        "confint = np.percentile(means,[2.5.97.5])\n",
        "print(confint)\n"
      ]
    }
  ],
  "metadata": {
    "colab": {
      "provenance": [],
      "include_colab_link": true
    },
    "kernelspec": {
      "display_name": "Python 3",
      "language": "python",
      "name": "python3"
    },
    "language_info": {
      "codemirror_mode": {
        "name": "ipython",
        "version": 3
      },
      "file_extension": ".py",
      "mimetype": "text/x-python",
      "name": "python",
      "nbconvert_exporter": "python",
      "pygments_lexer": "ipython3",
      "version": "3.8.3"
    }
  },
  "nbformat": 4,
  "nbformat_minor": 0
}